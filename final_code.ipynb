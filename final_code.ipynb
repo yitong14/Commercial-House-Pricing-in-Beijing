{
 "cells": [
  {
   "cell_type": "markdown",
   "metadata": {},
   "source": [
    "# Exercise"
   ]
  },
  {
   "cell_type": "markdown",
   "metadata": {},
   "source": [
    "### Baidu News Report"
   ]
  },
  {
   "cell_type": "markdown",
   "metadata": {},
   "source": [
    "- get the source code"
   ]
  },
  {
   "cell_type": "code",
   "execution_count": null,
   "metadata": {},
   "outputs": [],
   "source": [
    "import requests\n",
    "url = 'https://www.baidu.com/s?rtt=1&bsst=1&cl=2&tn=news&word=%E9%98%BF%E9%87%8C%E5%B7%B4%E5%B7%B4'\n",
    "headers = {'User-Agent':'Mozilla/5.0 (Windows NT 10.0; Win64; x64) AppleWebKit/537.36 (KHTML, like Gecko) Chrome/78.0.3904.108 Safari/537.36'}\n",
    "res = requests.get(url, headers=headers).text\n",
    "print(res)"
   ]
  },
  {
   "cell_type": "markdown",
   "metadata": {},
   "source": [
    "- regular expression"
   ]
  },
  {
   "cell_type": "code",
   "execution_count": 6,
   "metadata": {},
   "outputs": [
    {
     "data": {
      "text/plain": [
       "['123']"
      ]
     },
     "execution_count": 6,
     "metadata": {},
     "output_type": "execute_result"
    }
   ],
   "source": [
    "import re\n",
    "content = 'hello 123 world'\n",
    "result = re.findall('\\d\\d\\d', content)\n",
    "result"
   ]
  },
  {
   "cell_type": "code",
   "execution_count": 7,
   "metadata": {},
   "outputs": [
    {
     "data": {
      "text/plain": [
       "['123', '456', '789']"
      ]
     },
     "execution_count": 7,
     "metadata": {},
     "output_type": "execute_result"
    }
   ],
   "source": [
    "content = 'hello 123 world 456 华小智Python基础教学 789'\n",
    "result = re.findall('\\d\\d\\d', content)\n",
    "result"
   ]
  },
  {
   "cell_type": "code",
   "execution_count": null,
   "metadata": {},
   "outputs": [],
   "source": [
    "content = '文本A百度新闻文本B'\n",
    "p_content = '文本A(.*?)文本B'\n",
    "result = re.findall(p_content, content)\n",
    "result"
   ]
  },
  {
   "cell_type": "code",
   "execution_count": 12,
   "metadata": {},
   "outputs": [
    {
     "data": {
      "text/plain": [
       "[' <img class=\"source-icon\" src=\"https://cambrian-images.cdn.bcebos.com/bf3cd02370b9c278a65c5e5ce3bb7fbc_1549608413453462.jpeg@w_100,h_100\" alt=\"\" /> 环球网&nbsp;&nbsp; 30分钟前']"
      ]
     },
     "execution_count": 12,
     "metadata": {},
     "output_type": "execute_result"
    }
   ],
   "source": [
    "content = '<p class=\"c-author\"> <img class=\"source-icon\" src=\"https://cambrian-images.cdn.bcebos.com/bf3cd02370b9c278a65c5e5ce3bb7fbc_1549608413453462.jpeg@w_100,h_100\" alt=\"\" /> 环球网&nbsp;&nbsp; 30分钟前</p>'\n",
    "p_content = '<p class=\"c-author\">(.*?)</p>'\n",
    "result = re.findall(p_content, content)\n",
    "result"
   ]
  },
  {
   "cell_type": "code",
   "execution_count": 15,
   "metadata": {},
   "outputs": [
    {
     "name": "stdout",
     "output_type": "stream",
     "text": [
      "['http://baijiahao.baidu.com/s?id=1651135613059945789&amp;wfr=spider&amp;for=pc']\n",
      "做公益为什么选这些冷门?<em>阿里巴巴</em>合伙人首度披露公益初心和收获\n"
     ]
    }
   ],
   "source": [
    "content = '''<h3 class=\"c-title\">\n",
    " <a href=\"http://baijiahao.baidu.com/s?id=1651135613059945789&amp;wfr=spider&amp;for=pc\"\n",
    "    data-click=\"{\n",
    "      'f0':'77A717EA',\n",
    "      'f1':'9F63F1E4',\n",
    "      'f2':'4CA6DE6E',\n",
    "      'f3':'54E5243F',\n",
    "      't':'1574758832'\n",
    "      }\"\n",
    "\n",
    "                target=\"_blank\"\n",
    "            \n",
    "    >\n",
    "      做公益为什么选这些冷门?<em>阿里巴巴</em>合伙人首度披露公益初心和收获\n",
    "    </a>'''\n",
    "p_href = '<h3 class=\"c-title\">.*?href=\"(.*?)\"'\n",
    "p_title = '<h3 class=\"c-title\">.*?>(.*?)</a>'\n",
    "href = re.findall(p_href, content, re.S)\n",
    "title = re.findall(p_title, content, re.S)\n",
    "print(href)\n",
    "for t in title:\n",
    "    print(t.strip())"
   ]
  },
  {
   "cell_type": "markdown",
   "metadata": {},
   "source": [
    "- Baidu News"
   ]
  },
  {
   "cell_type": "code",
   "execution_count": 43,
   "metadata": {},
   "outputs": [
    {
     "name": "stdout",
     "output_type": "stream",
     "text": [
      "1. 阿里巴巴香港上市首日:股价涨逾6% 市值港股第一 (1小时前-新浪新闻)\n",
      "http://news.sina.com.cn/c/2019-11-26/doc-iihnzhfz1837523.shtml\n",
      "2. 阿里巴巴港股上市便成“股王”!专家支招它到底该怎么买? (38分钟前-新浪)\n",
      "http://finance.sina.com.cn/stock/relnews/us/2019-11-26/doc-iihnzahi3508733.shtml\n",
      "3. 中金公司助力阿里巴巴在香港联交所主板成功上市 (56分钟前-新浪)\n",
      "http://finance.sina.com.cn/stock/hkstock/ggscyd/2019-11-26/doc-iihnzhfz1854023.shtml\n",
      "4. 阿里巴巴在港上市 能持续超越腾讯成为“港股之王”吗? (1小时前-新浪)\n",
      "https://tech.sina.com.cn/roll/2019-11-26/doc-iihnzhfz1847997.shtml?source=cj&amp;dv=1\n",
      "5. 4万亿,港股市值第一!阿里巴巴港股开盘大涨6.25%!你啥时候也能赚一... (3小时前-搜狐)\n",
      "http://m.sohu.com/a/356581291_114960\n",
      "6. 阿里巴巴今日香港挂牌 成港股第一大市值公司 (5小时前-凤凰网)\n",
      "http://finance.ifeng.com/c/7ruhtM7ifQc\n",
      "7. 张勇谈港交所上市:“回家”是阿里巴巴的新起点 (6小时前-凤凰网)\n",
      "http://finance.ifeng.com/c/7ruk5QdB8G2\n",
      "8. 时隔7年重归港股 阿里巴巴开启航海新时代 (1小时前-中国经济新闻网)\n",
      "http://www.cet.com.cn/itpd/sdyd/2426655.shtml\n",
      "9. 阿里巴巴港股挂牌 金融科技航母启航 (48分钟前-新浪财经)\n",
      "http://baijiahao.baidu.com/s?id=1651258884899863132&amp;wfr=spider&amp;for=pc\n",
      "10. 阿里巴巴成功登陆港交所 盘初涨超7% (9小时前-新浪财经)\n",
      "http://baijiahao.baidu.com/s?id=1651227371809446155&amp;wfr=spider&amp;for=pc\n"
     ]
    }
   ],
   "source": [
    "import requests\n",
    "import pandas as pd\n",
    "\n",
    "# get the resource code\n",
    "url = 'https://www.baidu.com/s?rtt=1&bsst=1&cl=2&tn=news&word=%E9%98%BF%E9%87%8C%E5%B7%B4%E5%B7%B4'\n",
    "headers = {'User-Agent':'Mozilla/5.0 (Windows NT 10.0; Win64; x64) AppleWebKit/537.36 (KHTML, like Gecko) Chrome/78.0.3904.108 Safari/537.36'}\n",
    "res = requests.get(url, headers=headers).text\n",
    "\n",
    "# extracting source, date, link and title\n",
    "p_info = '<p class=\"c-author\">(.*?)</p>'\n",
    "info = re.findall(p_info, res, re.S)\n",
    "p_link = '<h3 class=\"c-title\">.*?href=\"(.*?)\"'\n",
    "p_title = '<h3 class=\"c-title\">.*?>(.*?)</a>'\n",
    "link = re.findall(p_link, res, re.S)\n",
    "title = re.findall(p_title, res, re.S)\n",
    "\n",
    "# data cleaning and output\n",
    "for i, t in enumerate(title):\n",
    "    c_t = t.strip()\n",
    "    title[i] = re.sub('<.*?>', '', c_t)\n",
    "\n",
    "source = []\n",
    "date = []\n",
    "for inf in info:\n",
    "    c_inf = inf.split('&nbsp;&nbsp;')\n",
    "    c_inf[0] = re.sub('<.*?>', '', c_inf[0])\n",
    "    source.append(c_inf[0].strip())\n",
    "    date.append(c_inf[1].strip())   \n",
    "    \n",
    "news = []\n",
    "for i in range(len(link)):\n",
    "    c_num = str(i+1)\n",
    "    c_title = title[i]\n",
    "    c_date_source = '({}-{})'.format(date[i], source[i])\n",
    "    c_link = link[i]\n",
    "    print(str(i+1)+'.', c_title, c_date_source)\n",
    "    print(c_link)\n",
    "    \n",
    "    c_list = [c_num, c_title, date[i], source[i], link[i]]\n",
    "    news.append(c_list)\n",
    "    \n",
    "news = pd.DataFrame(news)\n",
    "news.columns = ['num', 'title', 'date', 'source', 'link']\n",
    "news.index = news['num']\n",
    "del news['num']\n",
    "news.to_excel('news.xlsx')"
   ]
  },
  {
   "cell_type": "code",
   "execution_count": 44,
   "metadata": {},
   "outputs": [
    {
     "data": {
      "text/html": [
       "<div>\n",
       "<style scoped>\n",
       "    .dataframe tbody tr th:only-of-type {\n",
       "        vertical-align: middle;\n",
       "    }\n",
       "\n",
       "    .dataframe tbody tr th {\n",
       "        vertical-align: top;\n",
       "    }\n",
       "\n",
       "    .dataframe thead th {\n",
       "        text-align: right;\n",
       "    }\n",
       "</style>\n",
       "<table border=\"1\" class=\"dataframe\">\n",
       "  <thead>\n",
       "    <tr style=\"text-align: right;\">\n",
       "      <th></th>\n",
       "      <th>title</th>\n",
       "      <th>date</th>\n",
       "      <th>source</th>\n",
       "      <th>link</th>\n",
       "    </tr>\n",
       "    <tr>\n",
       "      <th>num</th>\n",
       "      <th></th>\n",
       "      <th></th>\n",
       "      <th></th>\n",
       "      <th></th>\n",
       "    </tr>\n",
       "  </thead>\n",
       "  <tbody>\n",
       "    <tr>\n",
       "      <td>1</td>\n",
       "      <td>阿里巴巴香港上市首日:股价涨逾6% 市值港股第一</td>\n",
       "      <td>1小时前</td>\n",
       "      <td>新浪新闻</td>\n",
       "      <td>http://news.sina.com.cn/c/2019-11-26/doc-iihnz...</td>\n",
       "    </tr>\n",
       "    <tr>\n",
       "      <td>2</td>\n",
       "      <td>阿里巴巴港股上市便成“股王”!专家支招它到底该怎么买?</td>\n",
       "      <td>38分钟前</td>\n",
       "      <td>新浪</td>\n",
       "      <td>http://finance.sina.com.cn/stock/relnews/us/20...</td>\n",
       "    </tr>\n",
       "    <tr>\n",
       "      <td>3</td>\n",
       "      <td>中金公司助力阿里巴巴在香港联交所主板成功上市</td>\n",
       "      <td>56分钟前</td>\n",
       "      <td>新浪</td>\n",
       "      <td>http://finance.sina.com.cn/stock/hkstock/ggscy...</td>\n",
       "    </tr>\n",
       "    <tr>\n",
       "      <td>4</td>\n",
       "      <td>阿里巴巴在港上市 能持续超越腾讯成为“港股之王”吗?</td>\n",
       "      <td>1小时前</td>\n",
       "      <td>新浪</td>\n",
       "      <td>https://tech.sina.com.cn/roll/2019-11-26/doc-i...</td>\n",
       "    </tr>\n",
       "    <tr>\n",
       "      <td>5</td>\n",
       "      <td>4万亿,港股市值第一!阿里巴巴港股开盘大涨6.25%!你啥时候也能赚一...</td>\n",
       "      <td>3小时前</td>\n",
       "      <td>搜狐</td>\n",
       "      <td>http://m.sohu.com/a/356581291_114960</td>\n",
       "    </tr>\n",
       "    <tr>\n",
       "      <td>6</td>\n",
       "      <td>阿里巴巴今日香港挂牌 成港股第一大市值公司</td>\n",
       "      <td>5小时前</td>\n",
       "      <td>凤凰网</td>\n",
       "      <td>http://finance.ifeng.com/c/7ruhtM7ifQc</td>\n",
       "    </tr>\n",
       "    <tr>\n",
       "      <td>7</td>\n",
       "      <td>张勇谈港交所上市:“回家”是阿里巴巴的新起点</td>\n",
       "      <td>6小时前</td>\n",
       "      <td>凤凰网</td>\n",
       "      <td>http://finance.ifeng.com/c/7ruk5QdB8G2</td>\n",
       "    </tr>\n",
       "    <tr>\n",
       "      <td>8</td>\n",
       "      <td>时隔7年重归港股 阿里巴巴开启航海新时代</td>\n",
       "      <td>1小时前</td>\n",
       "      <td>中国经济新闻网</td>\n",
       "      <td>http://www.cet.com.cn/itpd/sdyd/2426655.shtml</td>\n",
       "    </tr>\n",
       "    <tr>\n",
       "      <td>9</td>\n",
       "      <td>阿里巴巴港股挂牌 金融科技航母启航</td>\n",
       "      <td>48分钟前</td>\n",
       "      <td>新浪财经</td>\n",
       "      <td>http://baijiahao.baidu.com/s?id=16512588848998...</td>\n",
       "    </tr>\n",
       "    <tr>\n",
       "      <td>10</td>\n",
       "      <td>阿里巴巴成功登陆港交所 盘初涨超7%</td>\n",
       "      <td>9小时前</td>\n",
       "      <td>新浪财经</td>\n",
       "      <td>http://baijiahao.baidu.com/s?id=16512273718094...</td>\n",
       "    </tr>\n",
       "  </tbody>\n",
       "</table>\n",
       "</div>"
      ],
      "text/plain": [
       "                                      title   date   source  \\\n",
       "num                                                           \n",
       "1                  阿里巴巴香港上市首日:股价涨逾6% 市值港股第一   1小时前     新浪新闻   \n",
       "2               阿里巴巴港股上市便成“股王”!专家支招它到底该怎么买?  38分钟前       新浪   \n",
       "3                    中金公司助力阿里巴巴在香港联交所主板成功上市  56分钟前       新浪   \n",
       "4                阿里巴巴在港上市 能持续超越腾讯成为“港股之王”吗?   1小时前       新浪   \n",
       "5    4万亿,港股市值第一!阿里巴巴港股开盘大涨6.25%!你啥时候也能赚一...   3小时前       搜狐   \n",
       "6                     阿里巴巴今日香港挂牌 成港股第一大市值公司   5小时前      凤凰网   \n",
       "7                    张勇谈港交所上市:“回家”是阿里巴巴的新起点   6小时前      凤凰网   \n",
       "8                      时隔7年重归港股 阿里巴巴开启航海新时代   1小时前  中国经济新闻网   \n",
       "9                         阿里巴巴港股挂牌 金融科技航母启航  48分钟前     新浪财经   \n",
       "10                       阿里巴巴成功登陆港交所 盘初涨超7%   9小时前     新浪财经   \n",
       "\n",
       "                                                  link  \n",
       "num                                                     \n",
       "1    http://news.sina.com.cn/c/2019-11-26/doc-iihnz...  \n",
       "2    http://finance.sina.com.cn/stock/relnews/us/20...  \n",
       "3    http://finance.sina.com.cn/stock/hkstock/ggscy...  \n",
       "4    https://tech.sina.com.cn/roll/2019-11-26/doc-i...  \n",
       "5                 http://m.sohu.com/a/356581291_114960  \n",
       "6               http://finance.ifeng.com/c/7ruhtM7ifQc  \n",
       "7               http://finance.ifeng.com/c/7ruk5QdB8G2  \n",
       "8        http://www.cet.com.cn/itpd/sdyd/2426655.shtml  \n",
       "9    http://baijiahao.baidu.com/s?id=16512588848998...  \n",
       "10   http://baijiahao.baidu.com/s?id=16512273718094...  "
      ]
     },
     "execution_count": 44,
     "metadata": {},
     "output_type": "execute_result"
    }
   ],
   "source": [
    "news"
   ]
  },
  {
   "cell_type": "markdown",
   "metadata": {},
   "source": [
    "- Batch processing several companies' news and generate report"
   ]
  },
  {
   "cell_type": "code",
   "execution_count": 46,
   "metadata": {},
   "outputs": [],
   "source": [
    "def  baidu(company):\n",
    "    url = 'https://www.baidu.com/s?rtt=1&bsst=1&cl=2&tn=news&word=' + company\n",
    "    res = requests.get(url, headers=headers).text\n",
    "    return res"
   ]
  },
  {
   "cell_type": "code",
   "execution_count": 51,
   "metadata": {},
   "outputs": [
    {
     "name": "stdout",
     "output_type": "stream",
     "text": [
      "华能信托爬取成功\n",
      "阿里巴巴爬取成功\n",
      "万科集团爬取成功\n",
      "百度集团爬取成功\n",
      "腾讯爬取成功\n",
      "京东爬取成功\n"
     ]
    }
   ],
   "source": [
    "companies = ['华能信托', '阿里巴巴', '万科集团', '百度集团', '腾讯', '京东']\n",
    "for com in companies:\n",
    "    \n",
    "    try:\n",
    "        res = baidu(com)\n",
    "        print(com+'爬取成功')\n",
    "    except:\n",
    "        print(com+'爬取失败')\n",
    "        continue\n",
    "\n",
    "    # extracting source, date, link and title\n",
    "    p_info = '<p class=\"c-author\">(.*?)</p>'\n",
    "    info = re.findall(p_info, res, re.S)\n",
    "    p_link = '<h3 class=\"c-title\">.*?href=\"(.*?)\"'\n",
    "    p_title = '<h3 class=\"c-title\">.*?>(.*?)</a>'\n",
    "    link = re.findall(p_link, res, re.S)\n",
    "    title = re.findall(p_title, res, re.S)\n",
    "\n",
    "    # data cleaning and output\n",
    "    for i, t in enumerate(title):\n",
    "        c_t = t.strip()\n",
    "        title[i] = re.sub('<.*?>', '', c_t)\n",
    "\n",
    "    source = []\n",
    "    date = []\n",
    "    for inf in info:\n",
    "        c_inf = inf.split('&nbsp;&nbsp;')\n",
    "        c_inf[0] = re.sub('<.*?>', '', c_inf[0])\n",
    "        source.append(c_inf[0].strip())\n",
    "        date.append(c_inf[1].strip())   \n",
    "\n",
    "    news = []\n",
    "    for i in range(len(link)):\n",
    "        c_num = str(i+1)\n",
    "        c_title = title[i]\n",
    "        c_date_source = '({}-{})'.format(date[i], source[i])\n",
    "        c_link = link[i]\n",
    "        # print(str(i+1)+'.', c_title, c_date_source)\n",
    "        # print(c_link)\n",
    "\n",
    "        c_list = [c_num, c_title, date[i], source[i], link[i]]\n",
    "        news.append(c_list)\n",
    "\n",
    "    news = pd.DataFrame(news)\n",
    "    news.columns = ['num', 'title', 'date', 'source', 'link']\n",
    "    news.index = news['num']\n",
    "    del news['num']\n",
    "    file = 'news_{}.xlsx'.format(com)\n",
    "    news.to_excel(file)"
   ]
  },
  {
   "cell_type": "markdown",
   "metadata": {},
   "source": [
    "# Extract data from anjuke.com"
   ]
  },
  {
   "cell_type": "markdown",
   "metadata": {},
   "source": [
    "### Initialization"
   ]
  },
  {
   "cell_type": "markdown",
   "metadata": {},
   "source": [
    "- Selenium"
   ]
  },
  {
   "cell_type": "code",
   "execution_count": 1,
   "metadata": {},
   "outputs": [],
   "source": [
    "import requests\n",
    "import pandas as pd\n",
    "import numpy as np\n",
    "from selenium import webdriver\n",
    "import time\n",
    "import re"
   ]
  },
  {
   "cell_type": "code",
   "execution_count": null,
   "metadata": {},
   "outputs": [],
   "source": [
    "chrome_options = webdriver.ChromeOptions()\n",
    "chrome_options.add_argument('--headless')\n",
    "browser = webdriver.Chrome(options=chrome_options)\n",
    "browser.get('https://www.baidu.com/')\n",
    "browser.find_element_by_xpath('//*[@id=\"kw\"]').send_keys('python')\n",
    "browser.find_element_by_xpath('//*[@id=\"su\"]').click()\n",
    "time.sleep(3)\n",
    "\n",
    "data = browser.page_source"
   ]
  },
  {
   "cell_type": "code",
   "execution_count": 5,
   "metadata": {},
   "outputs": [],
   "source": [
    "browser.quit()"
   ]
  },
  {
   "cell_type": "markdown",
   "metadata": {},
   "source": [
    "### Extract data from anjuke.com"
   ]
  },
  {
   "cell_type": "markdown",
   "metadata": {},
   "source": [
    "###### extract data from the main page\n",
    "  - including district, link, name, address, and determined prices"
   ]
  },
  {
   "cell_type": "code",
   "execution_count": null,
   "metadata": {},
   "outputs": [],
   "source": [
    "# get information of all district\n",
    "districts = ['chaoyang', 'fengtai', 'haidian', 'tongzhou',\n",
    "            'fangshan', 'shunyi', 'changping', 'daxing', 'miyun']\n",
    "excel2 = pd.DataFrame(index=['district', 'link', 'name', 'address', 'price'])\n",
    "all_info = []\n",
    "for district in districts:\n",
    "    print(district)\n",
    "    \n",
    "    # get proxy\n",
    "    api = 'http://api.xdaili.cn/xdaili-api//greatRecharge/getGreatIp?spiderId=7152e27c30884783a5614375c6102b9a&orderno=YZ201911266834bj7dj5&returnType=1&count=1'\n",
    "    proxy = requests.get(api).text\n",
    "    proxy = proxy.strip()\n",
    "    my_proxy = '--proxy-server=http://'+proxy\n",
    "    # set chrome\n",
    "    chrome_options = webdriver.ChromeOptions()\n",
    "    chrome_options.add_argument('--headless')\n",
    "    chrome_options.add_argument(my_proxy)\n",
    "    browser = webdriver.Chrome(options=chrome_options)\n",
    "    # get source code\n",
    "    url = 'https://bj.fang.anjuke.com/loupan/{}/w1/'.format(district)\n",
    "    browser.get(url)\n",
    "    data = browser.page_source\n",
    "    # clear browser cache\n",
    "    browser.quit()\n",
    "    \n",
    "    # get all houses' info\n",
    "    p_info = '<div class=\"key-list imglazyload\">(.*?)<div class=\"list-page\">'\n",
    "    infos = re.findall(p_info, data, re.S)\n",
    "    all_info.append(infos[0])"
   ]
  },
  {
   "cell_type": "code",
   "execution_count": 12,
   "metadata": {},
   "outputs": [],
   "source": [
    "excel2 = pd.read_excel('semi-info.xlsx', index=0)\n",
    "col = ['index']\n",
    "col.extend(excel2.columns[1:])\n",
    "excel2.columns = col\n",
    "excel2.index = excel2['index']"
   ]
  },
  {
   "cell_type": "code",
   "execution_count": 23,
   "metadata": {
    "scrolled": true
   },
   "outputs": [
    {
     "data": {
      "text/html": [
       "<div>\n",
       "<style scoped>\n",
       "    .dataframe tbody tr th:only-of-type {\n",
       "        vertical-align: middle;\n",
       "    }\n",
       "\n",
       "    .dataframe tbody tr th {\n",
       "        vertical-align: top;\n",
       "    }\n",
       "\n",
       "    .dataframe thead th {\n",
       "        text-align: right;\n",
       "    }\n",
       "</style>\n",
       "<table border=\"1\" class=\"dataframe\">\n",
       "  <thead>\n",
       "    <tr style=\"text-align: right;\">\n",
       "      <th></th>\n",
       "      <th>index</th>\n",
       "      <th>林肯时代\\n\\t\\t\\t</th>\n",
       "      <th>恒大花溪小镇\\n\\t\\t\\t</th>\n",
       "      <th>湖光壹号\\n\\t\\t\\t</th>\n",
       "      <th>瑞悦府\\n\\t\\t\\t</th>\n",
       "      <th>北京城建•朝青知筑\\n\\t\\t\\t</th>\n",
       "      <th>中海枫丹公馆\\n\\t\\t\\t</th>\n",
       "      <th>北京恒大华府\\n\\t\\t\\t</th>\n",
       "      <th>天瑞宸章\\n\\t\\t\\t</th>\n",
       "      <th>丽都悦府\\n\\t\\t\\t</th>\n",
       "      <th>...</th>\n",
       "      <th>蓝桥驿苑\\n\\t\\t\\t</th>\n",
       "      <th>天同11号\\n\\t\\t\\t</th>\n",
       "      <th>金融街融汇\\n\\t\\t\\t</th>\n",
       "      <th>当代采育满庭春MOMA\\n\\t\\t\\t</th>\n",
       "      <th>北京明发广场\\n\\t\\t\\t</th>\n",
       "      <th>金第万科金域东郡\\n\\t\\t\\t</th>\n",
       "      <th>cago寓所\\n\\t\\t\\t</th>\n",
       "      <th>首开住总·国悦居\\n\\t\\t\\t</th>\n",
       "      <th>北京金科天籁城\\n\\t\\t\\t</th>\n",
       "      <th>旭辉汇璟园\\n\\t\\t\\t</th>\n",
       "    </tr>\n",
       "    <tr>\n",
       "      <th>index</th>\n",
       "      <th></th>\n",
       "      <th></th>\n",
       "      <th></th>\n",
       "      <th></th>\n",
       "      <th></th>\n",
       "      <th></th>\n",
       "      <th></th>\n",
       "      <th></th>\n",
       "      <th></th>\n",
       "      <th></th>\n",
       "      <th></th>\n",
       "      <th></th>\n",
       "      <th></th>\n",
       "      <th></th>\n",
       "      <th></th>\n",
       "      <th></th>\n",
       "      <th></th>\n",
       "      <th></th>\n",
       "      <th></th>\n",
       "      <th></th>\n",
       "      <th></th>\n",
       "    </tr>\n",
       "  </thead>\n",
       "  <tbody>\n",
       "    <tr>\n",
       "      <td>district</td>\n",
       "      <td>district</td>\n",
       "      <td>chaoyang</td>\n",
       "      <td>chaoyang</td>\n",
       "      <td>chaoyang</td>\n",
       "      <td>chaoyang</td>\n",
       "      <td>chaoyang</td>\n",
       "      <td>chaoyang</td>\n",
       "      <td>chaoyang</td>\n",
       "      <td>chaoyang</td>\n",
       "      <td>chaoyang</td>\n",
       "      <td>...</td>\n",
       "      <td>daxing</td>\n",
       "      <td>daxing</td>\n",
       "      <td>daxing</td>\n",
       "      <td>daxing</td>\n",
       "      <td>daxing</td>\n",
       "      <td>daxing</td>\n",
       "      <td>daxing</td>\n",
       "      <td>daxing</td>\n",
       "      <td>daxing</td>\n",
       "      <td>daxing</td>\n",
       "    </tr>\n",
       "    <tr>\n",
       "      <td>link</td>\n",
       "      <td>link</td>\n",
       "      <td>https://bj.fang.anjuke.com/loupan/453476.html</td>\n",
       "      <td>https://bj.fang.anjuke.com/loupan/417696.html</td>\n",
       "      <td>https://bj.fang.anjuke.com/loupan/416443.html?...</td>\n",
       "      <td>https://bj.fang.anjuke.com/loupan/435260.html?...</td>\n",
       "      <td>https://bj.fang.anjuke.com/loupan/439965.html?...</td>\n",
       "      <td>https://bj.fang.anjuke.com/loupan/455460.html?...</td>\n",
       "      <td>https://bj.fang.anjuke.com/loupan/400628.html?...</td>\n",
       "      <td>https://bj.fang.anjuke.com/loupan/445099.html?...</td>\n",
       "      <td>https://bj.fang.anjuke.com/loupan/437085.html?...</td>\n",
       "      <td>...</td>\n",
       "      <td>https://bj.fang.anjuke.com/loupan/249258.html?...</td>\n",
       "      <td>https://bj.fang.anjuke.com/loupan/252025.html?...</td>\n",
       "      <td>https://bj.fang.anjuke.com/loupan/240399.html?...</td>\n",
       "      <td>https://bj.fang.anjuke.com/loupan/250803.html?...</td>\n",
       "      <td>https://bj.fang.anjuke.com/loupan/247986.html?...</td>\n",
       "      <td>https://bj.fang.anjuke.com/loupan/248329.html?...</td>\n",
       "      <td>https://bj.fang.anjuke.com/loupan/237798.html?...</td>\n",
       "      <td>https://bj.fang.anjuke.com/loupan/264033.html?...</td>\n",
       "      <td>https://bj.fang.anjuke.com/loupan/264003.html?...</td>\n",
       "      <td>https://bj.fang.anjuke.com/loupan/412102.html?...</td>\n",
       "    </tr>\n",
       "    <tr>\n",
       "      <td>name</td>\n",
       "      <td>name</td>\n",
       "      <td>林肯时代</td>\n",
       "      <td>恒大花溪小镇</td>\n",
       "      <td>湖光壹号</td>\n",
       "      <td>瑞悦府</td>\n",
       "      <td>北京城建•朝青知筑</td>\n",
       "      <td>中海枫丹公馆</td>\n",
       "      <td>北京恒大华府</td>\n",
       "      <td>天瑞宸章</td>\n",
       "      <td>丽都悦府</td>\n",
       "      <td>...</td>\n",
       "      <td>蓝桥驿苑</td>\n",
       "      <td>天同11号</td>\n",
       "      <td>金融街融汇</td>\n",
       "      <td>当代采育满庭春MOMA</td>\n",
       "      <td>北京明发广场</td>\n",
       "      <td>金第万科金域东郡</td>\n",
       "      <td>cago寓所</td>\n",
       "      <td>首开住总·国悦居</td>\n",
       "      <td>北京金科天籁城</td>\n",
       "      <td>旭辉汇璟园</td>\n",
       "    </tr>\n",
       "    <tr>\n",
       "      <td>address</td>\n",
       "      <td>address</td>\n",
       "      <td>[大兴亦庄]荣京西街（荣京东街地铁站西600米）\\n\\t\\t\\t            \\t...</td>\n",
       "      <td>[北京周边其它]宝坻京津生态新城（津蓟高速九园线出口...\\n\\t\\t\\t         ...</td>\n",
       "      <td>[朝阳望京]湖光中街\\n\\t\\t\\t            \\t\\t            ...</td>\n",
       "      <td>[朝阳孙河]北京市朝阳区黄康路北侧 孙河地铁站西...\\n\\t\\t\\t           ...</td>\n",
       "      <td>[朝阳朝青]地铁6号线褡裢坡站B口东行200米\\n\\t\\t\\t            \\t\\...</td>\n",
       "      <td>[朝阳其他]通惠河北路69号院（朝阳建国门桥东南1...\\n\\t\\t\\t          ...</td>\n",
       "      <td>[朝阳东坝]东五环东坝七棵树以北、坝河以南\\n\\t\\t\\t            \\t\\t ...</td>\n",
       "      <td>[朝阳孙河]京密路与顺黄路交汇处西南800米\\n\\t\\t\\t            \\t\\t...</td>\n",
       "      <td>[朝阳望京]东四环，霄云桥北500米\\n\\t\\t\\t            \\t\\t    ...</td>\n",
       "      <td>...</td>\n",
       "      <td>[大兴黄村]孙村海鑫路北\\n\\t\\t\\t            \\t\\t          ...</td>\n",
       "      <td>[大兴黄村]大兴地铁4号大兴线黄村西大街站向西20...\\n\\t\\t\\t          ...</td>\n",
       "      <td>[大兴天宫院]新城核心区地铁天宫院站北侧300米\\n\\t\\t\\t            \\t...</td>\n",
       "      <td>[大兴亦庄]采育镇\\n\\t\\t\\t            \\t\\t            \\...</td>\n",
       "      <td>[大兴天宫院]大兴京开高速念坛出口新源大街与永兴路...\\n\\t\\t\\t          ...</td>\n",
       "      <td>[大兴亦庄]大兴亦庄南海子公园东南约1800米\\n\\t\\t\\t            \\t\\...</td>\n",
       "      <td>[大兴黄村]工业开发区广茂大街\\n\\t\\t\\t            \\t\\t       ...</td>\n",
       "      <td>[大兴亦庄]南海子公园北侧500米\\n\\t\\t\\t            \\t\\t     ...</td>\n",
       "      <td>[大兴天宫院]大兴生物医药基地东配套区北臧村镇，4...\\n\\t\\t\\t          ...</td>\n",
       "      <td>[大兴旧宫]瀛海镇姜场村，南海子公园南侧800米，...\\n\\t\\t\\t          ...</td>\n",
       "    </tr>\n",
       "    <tr>\n",
       "      <td>price</td>\n",
       "      <td>price</td>\n",
       "      <td>\"&gt;均价39800元/㎡</td>\n",
       "      <td>\"&gt;最低6888元/㎡起</td>\n",
       "      <td>\"&gt;均价85511元/㎡</td>\n",
       "      <td>\"&gt;总价600万元/套起</td>\n",
       "      <td>\"&gt;均价76000元/㎡</td>\n",
       "      <td>\"&gt;均价100798元/㎡</td>\n",
       "      <td>\"&gt;总价2300万元/套起</td>\n",
       "      <td>\"&gt;均价68924元/㎡</td>\n",
       "      <td>-txt\"&gt;售价待定</td>\n",
       "      <td>...</td>\n",
       "      <td>-txt\"&gt;售价待定</td>\n",
       "      <td>-txt\"&gt;售价待定</td>\n",
       "      <td>\"&gt;均价22500元/㎡</td>\n",
       "      <td>-txt\"&gt;售价待定</td>\n",
       "      <td>-txt\"&gt;售价待定</td>\n",
       "      <td>-txt\"&gt;售价待定</td>\n",
       "      <td>-txt\"&gt;售价待定</td>\n",
       "      <td>\"&gt;均价22000元/㎡</td>\n",
       "      <td>-txt\"&gt;售价待定</td>\n",
       "      <td>\"&gt;均价17750元/㎡</td>\n",
       "    </tr>\n",
       "  </tbody>\n",
       "</table>\n",
       "<p>5 rows × 380 columns</p>\n",
       "</div>"
      ],
      "text/plain": [
       "             index                                       林肯时代\\n\\t\\t\\t  \\\n",
       "index                                                                   \n",
       "district  district                                           chaoyang   \n",
       "link          link      https://bj.fang.anjuke.com/loupan/453476.html   \n",
       "name          name                                               林肯时代   \n",
       "address    address  [大兴亦庄]荣京西街（荣京东街地铁站西600米）\\n\\t\\t\\t            \\t...   \n",
       "price        price                                       \">均价39800元/㎡   \n",
       "\n",
       "                                             恒大花溪小镇\\n\\t\\t\\t  \\\n",
       "index                                                         \n",
       "district                                           chaoyang   \n",
       "link          https://bj.fang.anjuke.com/loupan/417696.html   \n",
       "name                                                 恒大花溪小镇   \n",
       "address   [北京周边其它]宝坻京津生态新城（津蓟高速九园线出口...\\n\\t\\t\\t         ...   \n",
       "price                                          \">最低6888元/㎡起   \n",
       "\n",
       "                                               湖光壹号\\n\\t\\t\\t  \\\n",
       "index                                                         \n",
       "district                                           chaoyang   \n",
       "link      https://bj.fang.anjuke.com/loupan/416443.html?...   \n",
       "name                                                   湖光壹号   \n",
       "address   [朝阳望京]湖光中街\\n\\t\\t\\t            \\t\\t            ...   \n",
       "price                                          \">均价85511元/㎡   \n",
       "\n",
       "                                                瑞悦府\\n\\t\\t\\t  \\\n",
       "index                                                         \n",
       "district                                           chaoyang   \n",
       "link      https://bj.fang.anjuke.com/loupan/435260.html?...   \n",
       "name                                                    瑞悦府   \n",
       "address   [朝阳孙河]北京市朝阳区黄康路北侧 孙河地铁站西...\\n\\t\\t\\t           ...   \n",
       "price                                          \">总价600万元/套起   \n",
       "\n",
       "                                          北京城建•朝青知筑\\n\\t\\t\\t  \\\n",
       "index                                                         \n",
       "district                                           chaoyang   \n",
       "link      https://bj.fang.anjuke.com/loupan/439965.html?...   \n",
       "name                                              北京城建•朝青知筑   \n",
       "address   [朝阳朝青]地铁6号线褡裢坡站B口东行200米\\n\\t\\t\\t            \\t\\...   \n",
       "price                                          \">均价76000元/㎡   \n",
       "\n",
       "                                             中海枫丹公馆\\n\\t\\t\\t  \\\n",
       "index                                                         \n",
       "district                                           chaoyang   \n",
       "link      https://bj.fang.anjuke.com/loupan/455460.html?...   \n",
       "name                                                 中海枫丹公馆   \n",
       "address   [朝阳其他]通惠河北路69号院（朝阳建国门桥东南1...\\n\\t\\t\\t          ...   \n",
       "price                                         \">均价100798元/㎡   \n",
       "\n",
       "                                             北京恒大华府\\n\\t\\t\\t  \\\n",
       "index                                                         \n",
       "district                                           chaoyang   \n",
       "link      https://bj.fang.anjuke.com/loupan/400628.html?...   \n",
       "name                                                 北京恒大华府   \n",
       "address   [朝阳东坝]东五环东坝七棵树以北、坝河以南\\n\\t\\t\\t            \\t\\t ...   \n",
       "price                                         \">总价2300万元/套起   \n",
       "\n",
       "                                               天瑞宸章\\n\\t\\t\\t  \\\n",
       "index                                                         \n",
       "district                                           chaoyang   \n",
       "link      https://bj.fang.anjuke.com/loupan/445099.html?...   \n",
       "name                                                   天瑞宸章   \n",
       "address   [朝阳孙河]京密路与顺黄路交汇处西南800米\\n\\t\\t\\t            \\t\\t...   \n",
       "price                                          \">均价68924元/㎡   \n",
       "\n",
       "                                               丽都悦府\\n\\t\\t\\t  ...  \\\n",
       "index                                                        ...   \n",
       "district                                           chaoyang  ...   \n",
       "link      https://bj.fang.anjuke.com/loupan/437085.html?...  ...   \n",
       "name                                                   丽都悦府  ...   \n",
       "address   [朝阳望京]东四环，霄云桥北500米\\n\\t\\t\\t            \\t\\t    ...  ...   \n",
       "price                                            -txt\">售价待定  ...   \n",
       "\n",
       "                                               蓝桥驿苑\\n\\t\\t\\t  \\\n",
       "index                                                         \n",
       "district                                             daxing   \n",
       "link      https://bj.fang.anjuke.com/loupan/249258.html?...   \n",
       "name                                                   蓝桥驿苑   \n",
       "address   [大兴黄村]孙村海鑫路北\\n\\t\\t\\t            \\t\\t          ...   \n",
       "price                                            -txt\">售价待定   \n",
       "\n",
       "                                              天同11号\\n\\t\\t\\t  \\\n",
       "index                                                         \n",
       "district                                             daxing   \n",
       "link      https://bj.fang.anjuke.com/loupan/252025.html?...   \n",
       "name                                                  天同11号   \n",
       "address   [大兴黄村]大兴地铁4号大兴线黄村西大街站向西20...\\n\\t\\t\\t          ...   \n",
       "price                                            -txt\">售价待定   \n",
       "\n",
       "                                              金融街融汇\\n\\t\\t\\t  \\\n",
       "index                                                         \n",
       "district                                             daxing   \n",
       "link      https://bj.fang.anjuke.com/loupan/240399.html?...   \n",
       "name                                                  金融街融汇   \n",
       "address   [大兴天宫院]新城核心区地铁天宫院站北侧300米\\n\\t\\t\\t            \\t...   \n",
       "price                                          \">均价22500元/㎡   \n",
       "\n",
       "                                        当代采育满庭春MOMA\\n\\t\\t\\t  \\\n",
       "index                                                         \n",
       "district                                             daxing   \n",
       "link      https://bj.fang.anjuke.com/loupan/250803.html?...   \n",
       "name                                            当代采育满庭春MOMA   \n",
       "address   [大兴亦庄]采育镇\\n\\t\\t\\t            \\t\\t            \\...   \n",
       "price                                            -txt\">售价待定   \n",
       "\n",
       "                                             北京明发广场\\n\\t\\t\\t  \\\n",
       "index                                                         \n",
       "district                                             daxing   \n",
       "link      https://bj.fang.anjuke.com/loupan/247986.html?...   \n",
       "name                                                 北京明发广场   \n",
       "address   [大兴天宫院]大兴京开高速念坛出口新源大街与永兴路...\\n\\t\\t\\t          ...   \n",
       "price                                            -txt\">售价待定   \n",
       "\n",
       "                                           金第万科金域东郡\\n\\t\\t\\t  \\\n",
       "index                                                         \n",
       "district                                             daxing   \n",
       "link      https://bj.fang.anjuke.com/loupan/248329.html?...   \n",
       "name                                               金第万科金域东郡   \n",
       "address   [大兴亦庄]大兴亦庄南海子公园东南约1800米\\n\\t\\t\\t            \\t\\...   \n",
       "price                                            -txt\">售价待定   \n",
       "\n",
       "                                             cago寓所\\n\\t\\t\\t  \\\n",
       "index                                                         \n",
       "district                                             daxing   \n",
       "link      https://bj.fang.anjuke.com/loupan/237798.html?...   \n",
       "name                                                 cago寓所   \n",
       "address   [大兴黄村]工业开发区广茂大街\\n\\t\\t\\t            \\t\\t       ...   \n",
       "price                                            -txt\">售价待定   \n",
       "\n",
       "                                           首开住总·国悦居\\n\\t\\t\\t  \\\n",
       "index                                                         \n",
       "district                                             daxing   \n",
       "link      https://bj.fang.anjuke.com/loupan/264033.html?...   \n",
       "name                                               首开住总·国悦居   \n",
       "address   [大兴亦庄]南海子公园北侧500米\\n\\t\\t\\t            \\t\\t     ...   \n",
       "price                                          \">均价22000元/㎡   \n",
       "\n",
       "                                            北京金科天籁城\\n\\t\\t\\t  \\\n",
       "index                                                         \n",
       "district                                             daxing   \n",
       "link      https://bj.fang.anjuke.com/loupan/264003.html?...   \n",
       "name                                                北京金科天籁城   \n",
       "address   [大兴天宫院]大兴生物医药基地东配套区北臧村镇，4...\\n\\t\\t\\t          ...   \n",
       "price                                            -txt\">售价待定   \n",
       "\n",
       "                                              旭辉汇璟园\\n\\t\\t\\t  \n",
       "index                                                        \n",
       "district                                             daxing  \n",
       "link      https://bj.fang.anjuke.com/loupan/412102.html?...  \n",
       "name                                                  旭辉汇璟园  \n",
       "address   [大兴旧宫]瀛海镇姜场村，南海子公园南侧800米，...\\n\\t\\t\\t          ...  \n",
       "price                                          \">均价17750元/㎡  \n",
       "\n",
       "[5 rows x 380 columns]"
      ]
     },
     "execution_count": 23,
     "metadata": {},
     "output_type": "execute_result"
    }
   ],
   "source": [
    "excel2"
   ]
  },
  {
   "cell_type": "markdown",
   "metadata": {},
   "source": [
    "###### extract detailed information from details page\n",
    "- including the information of surrounding (transportation/hospital/school/business)"
   ]
  },
  {
   "cell_type": "markdown",
   "metadata": {},
   "source": [
    " - transporation (bus / subway)"
   ]
  },
  {
   "cell_type": "code",
   "execution_count": 32,
   "metadata": {
    "scrolled": true
   },
   "outputs": [
    {
     "name": "stdout",
     "output_type": "stream",
     "text": [
      "1 2 3 4 5 6 7 8 9 10 11 12 13 14 15 16 17 18 19 20 21 22 23 24 25 26 27 28 29 30 31 32 33 34 35 36 37 38 39 40 41 42 43 44 45 46 47 48 49 50 51 52 53 54 55 56 57 58 59 60 61 62 63 64 65 66 67 68 69 70 71 72 73 74 75 76 77 78 79 80 81 82 83 84 85 86 87 88 89 90 91 92 93 94 95 96 97 98 99 100 101 102 103 104 105 106 107 108 109 110 111 112 113 114 115 116 117 118 119 120 121 122 123 124 125 126 127 128 129 130 131 132 133 134 135 136 137 138 139 140 141 142 143 144 145 146 147 148 149 150 151 152 153 154 155 156 157 158 159 160 161 162 163 164 165 166 167 168 169 170 171 172 173 174 175 176 177 178 179 180 181 182 183 184 185 186 187 188 189 190 191 192 193 194 195 196 197 198 199 200 201 202 203 204 205 206 207 208 209 210 211 212 213 214 215 216 217 218 219 220 221 222 223 224 225 226 227 228 229 230 231 232 233 234 235 236 237 238 239 240 241 242 243 244 245 246 247 248 249 250 251 252 253 254 255 256 257 258 259 260 261 262 263 264 265 266 267 268 269 270 271 272 273 274 275 276 277 278 279 280 281 282 283 284 285 286 287 288 289 290 291 292 293 294 295 296 297 298 299 300 301 302 303 304 305 306 307 308 309 310 311 312 313 314 315 316 317 318 319 320 321 322 323 324 325 326 327 328 329 330 331 332 333 334 335 336 337 338 339 340 341 342 343 344 345 346 347 348 349 350 351 352 353 354 355 356 357 358 359 360 361 362 363 364 365 366 367 368 369 370 371 372 373 374 375 376 377 378 379 time cost: 25.3125\n"
     ]
    }
   ],
   "source": [
    "time_start = time.process_time()\n",
    "\n",
    "# get information of all houses\n",
    "# transportation only\n",
    "link = excel2.loc['link', :]\n",
    "all_houses = []\n",
    "k = 1\n",
    "for l in link[1:]:\n",
    "    \n",
    "    '''\n",
    "    # get proxy\n",
    "    api = 'http://api.xdaili.cn/xdaili-api//greatRecharge/getGreatIp?spiderId=7152e27c30884783a5614375c6102b9a&orderno=YZ201911266834bj7dj5&returnType=1&count=1'\n",
    "    proxy = requests.get(api).text\n",
    "    proxy = proxy.strip()\n",
    "    my_proxy = '--proxy-server=http://'+proxy\n",
    "    '''\n",
    "    # set chrome\n",
    "    chrome_options = webdriver.ChromeOptions()\n",
    "    chrome_options.add_argument('--headless')\n",
    "    # chrome_options.add_argument(my_proxy)\n",
    "    browser = webdriver.Chrome(options=chrome_options)\n",
    "    # get source code\n",
    "    browser.get(l)\n",
    "    data = browser.page_source\n",
    "    # clear browser cache\n",
    "    browser.quit()\n",
    "    \n",
    "    # get all houses' info\n",
    "    all_houses.append(data)\n",
    "    \n",
    "    print(k, end=' ')\n",
    "    \n",
    "    k += 1\n",
    "    \n",
    "time_end = time.process_time()\n",
    "print('time cost:', time_end - time_start, 's')"
   ]
  },
  {
   "cell_type": "markdown",
   "metadata": {},
   "source": [
    " - hospital"
   ]
  },
  {
   "cell_type": "code",
   "execution_count": null,
   "metadata": {},
   "outputs": [],
   "source": [
    "time_start = time.process_time()\n",
    "\n",
    "# get information of all houses\n",
    "# hospital only\n",
    "link = excel2.loc['link', :]\n",
    "all_hos = []\n",
    "k = 1\n",
    "j = 0\n",
    "for l in link[1:]:\n",
    "    \n",
    "    '''\n",
    "    # get proxy\n",
    "    api = 'http://api.xdaili.cn/xdaili-api//greatRecharge/getGreatIp?spiderId=7152e27c30884783a5614375c6102b9a&orderno=YZ201911266834bj7dj5&returnType=1&count=1'\n",
    "    proxy = requests.get(api).text\n",
    "    proxy = proxy.strip()\n",
    "    my_proxy = '--proxy-server=http://'+proxy\n",
    "    '''\n",
    "    # set chrome\n",
    "    #chrome_options = webdriver.ChromeOptions()\n",
    "    #chrome_options.add_argument('--headless')\n",
    "    # chrome_options.add_argument(my_proxy)\n",
    "    #browser = webdriver.Chrome(options=chrome_options)\n",
    "    browser = webdriver.Chrome()\n",
    "    # get source code\n",
    "    browser.get(l)\n",
    "    try:\n",
    "        browser.find_element_by_xpath('//*[@id=\"life-tab-hos\"]/a').click()\n",
    "        data = browser.page_source\n",
    "    #except:\n",
    "        #browser.find_element_by_css_selector('#life-tab-hos > a').click()\n",
    "        #data = browser.page_source\n",
    "    except:\n",
    "        data = 'NOT FOUND'\n",
    "    # clear browser cache\n",
    "    browser.quit()\n",
    "    \n",
    "    # get all houses' info\n",
    "    all_hos.append(data)\n",
    "    \n",
    "    print(k, end=' ')\n",
    "    \n",
    "    k += 1\n",
    "    \n",
    "time_end = time.process_time()\n",
    "print('time cost:', time_end - time_start, 's')"
   ]
  },
  {
   "cell_type": "code",
   "execution_count": null,
   "metadata": {},
   "outputs": [],
   "source": [
    "# continue to extract data of hospital after debugging\n",
    "for l in link[82:]:\n",
    "    \n",
    "    '''\n",
    "    # get proxy\n",
    "    api = 'http://api.xdaili.cn/xdaili-api//greatRecharge/getGreatIp?spiderId=7152e27c30884783a5614375c6102b9a&orderno=YZ201911266834bj7dj5&returnType=1&count=1'\n",
    "    proxy = requests.get(api).text\n",
    "    proxy = proxy.strip()\n",
    "    my_proxy = '--proxy-server=http://'+proxy\n",
    "    '''\n",
    "    # set chrome\n",
    "    #chrome_options = webdriver.ChromeOptions()\n",
    "    #chrome_options.add_argument('--headless')\n",
    "    # chrome_options.add_argument(my_proxy)\n",
    "    #browser = webdriver.Chrome(options=chrome_options)\n",
    "    browser = webdriver.Chrome()\n",
    "    # get source code\n",
    "    browser.get(l)\n",
    "    try:\n",
    "        browser.find_element_by_xpath('//*[@id=\"life-tab-hos\"]/a').click()\n",
    "        data = browser.page_source\n",
    "    #except:\n",
    "        #browser.find_element_by_css_selector('#life-tab-hos > a').click()\n",
    "        #data = browser.page_source\n",
    "    except:\n",
    "        data = 'NOT FOUND'\n",
    "    # clear browser cache\n",
    "    browser.quit()\n",
    "    \n",
    "    # get all houses' info\n",
    "    all_hos.append(data)\n",
    "    \n",
    "    print(k, end=' ')\n",
    "    \n",
    "    k += 1\n",
    "    \n",
    "    time.sleep(3)"
   ]
  },
  {
   "cell_type": "markdown",
   "metadata": {},
   "source": [
    " - school"
   ]
  },
  {
   "cell_type": "code",
   "execution_count": 76,
   "metadata": {
    "scrolled": true
   },
   "outputs": [
    {
     "name": "stdout",
     "output_type": "stream",
     "text": [
      "1 2 3 4 5 6 7 8 9 10 11 12 13 14 15 16 17 18 19 20 21 22 23 24 25 26 27 28 29 30 31 32 33 34 35 36 37 38 39 40 41 42 43 44 45 46 47 48 49 50 51 52 53 54 55 56 57 58 59 60 61 62 63 64 65 66 67 68 69 70 71 72 73 74 75 76 77 78 79 80 81 82 83 84 85 86 87 88 89 90 91 92 93 94 95 96 97 98 99 100 101 102 103 104 105 106 107 108 109 110 111 112 113 114 115 116 117 118 119 120 121 122 123 124 125 126 127 128 129 130 131 132 133 134 135 136 137 138 139 140 141 142 143 144 145 146 147 148 149 150 151 152 153 154 155 156 157 158 159 160 161 162 163 164 165 166 167 168 169 170 171 172 173 174 175 176 177 178 179 180 181 182 183 184 185 186 187 188 189 190 191 192 193 194 195 196 197 198 199 200 201 202 203 204 205 206 207 208 209 210 211 212 213 214 215 216 217 218 219 220 221 222 223 224 225 226 227 228 229 230 231 232 233 234 235 236 237 238 239 240 241 242 243 244 245 246 247 248 249 250 251 252 253 254 255 256 257 258 259 260 261 262 263 264 265 266 267 268 269 270 271 272 273 274 275 276 277 278 279 280 281 282 283 284 285 286 287 288 289 290 291 292 293 294 295 296 297 298 299 300 301 302 303 304 305 306 307 308 309 310 311 312 313 314 315 316 317 318 319 320 321 322 323 324 325 326 327 328 329 330 331 332 333 334 335 336 337 338 339 340 341 342 343 344 345 346 347 348 349 350 351 352 353 354 355 356 357 358 359 360 361 362 363 364 365 366 367 368 369 370 371 372 373 374 375 376 377 378 379 "
     ]
    }
   ],
   "source": [
    "# get information of all houses\n",
    "# school only\n",
    "link = excel2.loc['link', :]\n",
    "all_school = []\n",
    "k = 1\n",
    "for l in link[1:]:\n",
    "    \n",
    "    '''\n",
    "    # get proxy\n",
    "    api = 'http://api.xdaili.cn/xdaili-api//greatRecharge/getGreatIp?spiderId=7152e27c30884783a5614375c6102b9a&orderno=YZ201911266834bj7dj5&returnType=1&count=1'\n",
    "    proxy = requests.get(api).text\n",
    "    proxy = proxy.strip()\n",
    "    my_proxy = '--proxy-server=http://'+proxy\n",
    "    '''\n",
    "    # set chrome\n",
    "    #chrome_options = webdriver.ChromeOptions()\n",
    "    #chrome_options.add_argument('--headless')\n",
    "    # chrome_options.add_argument(my_proxy)\n",
    "    #browser = webdriver.Chrome(options=chrome_options)\n",
    "    browser = webdriver.Chrome()\n",
    "    # get source code\n",
    "    browser.get(l)\n",
    "    try:\n",
    "        browser.find_element_by_xpath('//*[@id=\"life-tab-edu\"]/a').click()\n",
    "        data = browser.page_source\n",
    "    #except:\n",
    "        #browser.find_element_by_css_selector('#life-tab-hos > a').click()\n",
    "        #data = browser.page_source\n",
    "    except:\n",
    "        data = 'NOT FOUND'\n",
    "    # clear browser cache\n",
    "    browser.quit()\n",
    "    \n",
    "    # get all houses' info\n",
    "    all_school.append(data)\n",
    "    \n",
    "    print(k, end=' ')\n",
    "    \n",
    "    k += 1\n",
    "    \n",
    "    time.sleep(3)"
   ]
  },
  {
   "cell_type": "markdown",
   "metadata": {},
   "source": [
    " - business"
   ]
  },
  {
   "cell_type": "code",
   "execution_count": null,
   "metadata": {},
   "outputs": [],
   "source": [
    "# get information of all houses\n",
    "# business only\n",
    "link = excel2.loc['link', :]\n",
    "all_buz = []\n",
    "k = 1\n",
    "for l in link[1:]:\n",
    "    \n",
    "    '''\n",
    "    # get proxy\n",
    "    api = 'http://api.xdaili.cn/xdaili-api//greatRecharge/getGreatIp?spiderId=7152e27c30884783a5614375c6102b9a&orderno=YZ201911266834bj7dj5&returnType=1&count=1'\n",
    "    proxy = requests.get(api).text\n",
    "    proxy = proxy.strip()\n",
    "    my_proxy = '--proxy-server=http://'+proxy\n",
    "    '''\n",
    "    # set chrome\n",
    "    #chrome_options = webdriver.ChromeOptions()\n",
    "    #chrome_options.add_argument('--headless')\n",
    "    # chrome_options.add_argument(my_proxy)\n",
    "    #browser = webdriver.Chrome(options=chrome_options)\n",
    "    browser = webdriver.Chrome()\n",
    "    # get source code\n",
    "    browser.get(l)\n",
    "    try:\n",
    "        browser.find_element_by_xpath('//*[@id=\"life-tab-biz\"]/a').click()\n",
    "        data = browser.page_source\n",
    "    #except:\n",
    "        #browser.find_element_by_css_selector('#life-tab-hos > a').click()\n",
    "        #data = browser.page_source\n",
    "    except:\n",
    "        data = 'NOT FOUND'\n",
    "    # clear browser cache\n",
    "    browser.quit()\n",
    "    \n",
    "    # get all houses' info\n",
    "    all_buz.append(data)\n",
    "    \n",
    "    print(k, end=' ')\n",
    "    \n",
    "    k += 1"
   ]
  },
  {
   "cell_type": "code",
   "execution_count": 87,
   "metadata": {
    "collapsed": true
   },
   "outputs": [
    {
     "name": "stdout",
     "output_type": "stream",
     "text": [
      "174 175 176 177 178 179 180 181 182 183 184 185 186 187 188 189 190 191 192 193 194 195 196 197 198 199 200 201 202 203 204 205 206 207 208 209 210 211 212 213 214 215 216 217 218 219 220 221 222 223 224 225 226 227 228 229 230 231 232 233 234 235 236 237 238 239 240 241 242 243 244 245 246 247 248 249 250 251 252 253 254 255 256 257 258 259 260 261 262 263 264 265 266 267 268 269 270 271 272 273 274 275 276 277 278 279 280 281 282 283 284 285 286 287 288 289 290 291 292 293 294 295 296 297 298 299 300 301 302 303 304 305 306 307 308 309 310 311 312 313 314 315 316 317 318 319 320 321 322 323 324 325 326 327 328 329 330 331 332 333 334 335 336 337 338 339 340 341 342 343 344 345 346 347 348 349 350 351 352 353 354 355 356 357 358 359 360 361 362 363 364 365 366 367 368 369 370 371 372 373 374 375 376 377 378 379 "
     ]
    }
   ],
   "source": [
    "# continue to extract data of hospital after debugging\n",
    "for l in link[174:]:\n",
    "    \n",
    "    '''\n",
    "    # get proxy\n",
    "    api = 'http://api.xdaili.cn/xdaili-api//greatRecharge/getGreatIp?spiderId=7152e27c30884783a5614375c6102b9a&orderno=YZ201911266834bj7dj5&returnType=1&count=1'\n",
    "    proxy = requests.get(api).text\n",
    "    proxy = proxy.strip()\n",
    "    my_proxy = '--proxy-server=http://'+proxy\n",
    "    '''\n",
    "    # set chrome\n",
    "    #chrome_options = webdriver.ChromeOptions()\n",
    "    #chrome_options.add_argument('--headless')\n",
    "    # chrome_options.add_argument(my_proxy)\n",
    "    #browser = webdriver.Chrome(options=chrome_options)\n",
    "    browser = webdriver.Chrome()\n",
    "    # get source code\n",
    "    browser.get(l)\n",
    "    try:\n",
    "        browser.find_element_by_xpath('//*[@id=\"life-tab-biz\"]/a').click()\n",
    "        data = browser.page_source\n",
    "    #except:\n",
    "        #browser.find_element_by_css_selector('#life-tab-hos > a').click()\n",
    "        #data = browser.page_source\n",
    "    except:\n",
    "        data = 'NOT FOUND'\n",
    "    # clear browser cache\n",
    "    browser.quit()\n",
    "    \n",
    "    # get all houses' info\n",
    "    all_buz.append(data)\n",
    "    \n",
    "    print(k, end=' ')\n",
    "    \n",
    "    k += 1"
   ]
  },
  {
   "cell_type": "markdown",
   "metadata": {},
   "source": [
    "###### save all source code in a file"
   ]
  },
  {
   "cell_type": "markdown",
   "metadata": {},
   "source": [
    " - check the number of source code for each type of information"
   ]
  },
  {
   "cell_type": "code",
   "execution_count": 73,
   "metadata": {},
   "outputs": [
    {
     "data": {
      "text/plain": [
       "379"
      ]
     },
     "execution_count": 73,
     "metadata": {},
     "output_type": "execute_result"
    }
   ],
   "source": [
    "len(all_houses)"
   ]
  },
  {
   "cell_type": "code",
   "execution_count": 72,
   "metadata": {},
   "outputs": [
    {
     "data": {
      "text/plain": [
       "379"
      ]
     },
     "execution_count": 72,
     "metadata": {},
     "output_type": "execute_result"
    }
   ],
   "source": [
    "len(all_hos)"
   ]
  },
  {
   "cell_type": "code",
   "execution_count": 77,
   "metadata": {},
   "outputs": [
    {
     "data": {
      "text/plain": [
       "379"
      ]
     },
     "execution_count": 77,
     "metadata": {},
     "output_type": "execute_result"
    }
   ],
   "source": [
    "len(all_school)"
   ]
  },
  {
   "cell_type": "code",
   "execution_count": 88,
   "metadata": {
    "scrolled": false
   },
   "outputs": [
    {
     "data": {
      "text/plain": [
       "379"
      ]
     },
     "execution_count": 88,
     "metadata": {},
     "output_type": "execute_result"
    }
   ],
   "source": [
    "len(all_buz)"
   ]
  },
  {
   "cell_type": "markdown",
   "metadata": {},
   "source": [
    " - save all the source code"
   ]
  },
  {
   "cell_type": "code",
   "execution_count": 74,
   "metadata": {},
   "outputs": [],
   "source": [
    "import codecs\n",
    "f = codecs.open('C:\\\\Users\\\\69414\\\\all_houses.txt', 'w', 'utf-8')\n",
    "for a in all_houses:\n",
    "    f.write(str(a))\n",
    "    f.write('17000159051700015905')\n",
    "f.close()"
   ]
  },
  {
   "cell_type": "code",
   "execution_count": 75,
   "metadata": {},
   "outputs": [],
   "source": [
    "import codecs\n",
    "f = codecs.open('C:\\\\Users\\\\69414\\\\all_hos.txt', 'w', 'utf-8')\n",
    "for a in all_hos:\n",
    "    f.write(str(a))\n",
    "    f.write('17000159051700015905')\n",
    "f.close()"
   ]
  },
  {
   "cell_type": "code",
   "execution_count": 78,
   "metadata": {},
   "outputs": [],
   "source": [
    "import codecs\n",
    "f = codecs.open('C:\\\\Users\\\\69414\\\\all_school.txt', 'w', 'utf-8')\n",
    "for a in all_school:\n",
    "    f.write(str(a))\n",
    "    f.write('17000159051700015905')\n",
    "f.close()"
   ]
  },
  {
   "cell_type": "code",
   "execution_count": 89,
   "metadata": {},
   "outputs": [],
   "source": [
    "import codecs\n",
    "f = codecs.open('C:\\\\Users\\\\69414\\\\all_buz.txt', 'w', 'utf-8')\n",
    "for a in all_buz:\n",
    "    f.write(str(a))\n",
    "    f.write('17000159051700015905')\n",
    "f.close()"
   ]
  },
  {
   "cell_type": "markdown",
   "metadata": {},
   "source": [
    "### supplement the information not found\n",
    " - hospital and school"
   ]
  },
  {
   "cell_type": "markdown",
   "metadata": {},
   "source": [
    "###### check the number of 'NOT FOUND'"
   ]
  },
  {
   "cell_type": "code",
   "execution_count": 235,
   "metadata": {},
   "outputs": [
    {
     "name": "stdout",
     "output_type": "stream",
     "text": [
      "all_houses has  0 NOT FOUND\n",
      "all_hos has  0 NOT FOUNDD\n",
      "all_school has  1 NOT FOUNDD\n",
      "all_buz has  1 NOT FOUND\n"
     ]
    }
   ],
   "source": [
    "print('all_houses has ', all_houses.count('NOT FOUND'), 'NOT FOUND')\n",
    "print('all_hos has ', all_hos.count('NOT FOUNDD'), 'NOT FOUNDD')\n",
    "print('all_school has ', all_school.count('NOT FOUNDD'), 'NOT FOUNDD')\n",
    "print('all_buz has ', all_buz.count('NOT FOUND'), 'NOT FOUND')"
   ]
  },
  {
   "cell_type": "markdown",
   "metadata": {},
   "source": [
    " - supplement information of hospital"
   ]
  },
  {
   "cell_type": "code",
   "execution_count": 231,
   "metadata": {},
   "outputs": [
    {
     "name": "stdout",
     "output_type": "stream",
     "text": [
      "1 2 3 4 5 6 7 8 9 10 11 12 13 14 15 16 17 18 19 20 21 22 23 24 25 26 27 28 29 30 31 32 33 34 35 36 37 38 39 40 41 42 43 44 45 46 47 48 49 50 51 52 53 54 55 56 57 58 59 60 61 62 63 64 65 66 67 68 69 70 71 72 73 74 75 76 77 78 79 80 81 82 83 84 85 86 87 88 89 90 91 92 93 94 95 96 97 98 99 100 101 102 103 104 105 106 107 108 109 110 111 112 113 114 115 116 117 118 119 "
     ]
    }
   ],
   "source": [
    "k = 1\n",
    "for l, hos, i in zip(link[1:], all_hos, range(379)):\n",
    "    if hos == 'NOT FOUND':\n",
    "        print(k, end=' ')\n",
    "        k += 1\n",
    "        # set chrome\n",
    "        browser = webdriver.Chrome()\n",
    "        # get source code\n",
    "        browser.get(l)\n",
    "        try:\n",
    "            browser.find_element_by_xpath('//*[@id=\"life-tab-hos\"]/a').click()\n",
    "            data = browser.page_source\n",
    "        #except:\n",
    "            #browser.find_element_by_css_selector('#life-tab-hos > a').click()\n",
    "            #data = browser.page_source\n",
    "        except:\n",
    "            data = 'NOT FOUNDD'\n",
    "        # clear browser cache\n",
    "        browser.quit()\n",
    "\n",
    "        # get all houses' info\n",
    "        all_hos[i] = data"
   ]
  },
  {
   "cell_type": "markdown",
   "metadata": {},
   "source": [
    " - supplement information of school"
   ]
  },
  {
   "cell_type": "code",
   "execution_count": 234,
   "metadata": {},
   "outputs": [
    {
     "name": "stdout",
     "output_type": "stream",
     "text": [
      "1 2 3 4 5 6 7 8 9 10 11 12 13 14 15 16 17 18 19 20 21 22 23 24 25 26 27 28 29 30 31 32 33 34 35 36 37 38 39 40 41 42 43 44 45 46 47 48 49 50 51 52 53 54 55 56 57 58 59 60 61 62 63 64 65 66 67 68 69 70 71 72 73 74 75 76 77 78 79 80 81 82 83 84 85 86 "
     ]
    }
   ],
   "source": [
    "k = 1\n",
    "for l, school, i in zip(link[1:], all_school, range(379)):\n",
    "    if school == 'NOT FOUND':\n",
    "        print(k, end=' ')\n",
    "        k += 1\n",
    "        # set chrome\n",
    "        browser = webdriver.Chrome()\n",
    "        # get source code\n",
    "        browser.get(l)\n",
    "        try:\n",
    "            browser.find_element_by_xpath('//*[@id=\"life-tab-edu\"]/a').click()\n",
    "            data = browser.page_source\n",
    "        #except:\n",
    "            #browser.find_element_by_css_selector('#life-tab-hos > a').click()\n",
    "            #data = browser.page_source\n",
    "        except:\n",
    "            data = 'NOT FOUNDD'\n",
    "        # clear browser cache\n",
    "        browser.quit()\n",
    "\n",
    "        # get all houses' info\n",
    "        all_school[i] = data"
   ]
  },
  {
   "cell_type": "markdown",
   "metadata": {},
   "source": [
    "# data processing"
   ]
  },
  {
   "cell_type": "code",
   "execution_count": 93,
   "metadata": {},
   "outputs": [],
   "source": [
    "all_labels = []\n",
    "all_peripheral = []"
   ]
  },
  {
   "cell_type": "markdown",
   "metadata": {},
   "source": [
    "### extract smaller range of information block"
   ]
  },
  {
   "cell_type": "markdown",
   "metadata": {},
   "source": [
    " - including price, label, transportation, business"
   ]
  },
  {
   "cell_type": "code",
   "execution_count": 134,
   "metadata": {
    "collapsed": true
   },
   "outputs": [
    {
     "name": "stdout",
     "output_type": "stream",
     "text": [
      "1 2 3 4 5 6 7 8 9 10 11 12 13 14 15 16 17 18 19 20 21 22 23 24 25 26 27 28 29 30 31 32 33 34 35 36 37 38 39 40 41 42 43 44 45 46 47 48 49 50 51 52 53 54 55 56 57 58 59 60 61 62 63 64 65 66 67 68 69 70 71 72 73 74 75 76 77 78 79 80 81 82 83 84 85 86 87 88 89 90 91 92 93 94 95 96 97 98 99 100 101 102 103 104 105 106 107 108 109 110 111 112 113 114 115 116 117 118 119 120 121 122 123 124 125 126 127 128 129 130 131 132 133 134 135 136 137 138 139 140 141 142 143 144 145 146 147 148 149 150 151 152 153 154 155 156 157 158 159 160 161 162 163 164 165 166 167 168 169 170 171 172 173 174 175 176 177 178 179 180 181 182 183 184 185 186 187 188 189 190 191 192 193 194 195 196 197 198 199 200 201 202 203 204 205 206 207 208 209 210 211 212 213 214 215 216 217 218 219 220 221 222 223 224 225 226 227 228 229 230 231 232 233 234 235 236 237 238 239 240 241 242 243 244 245 246 247 248 249 250 251 252 253 254 255 256 257 258 259 260 261 262 263 264 265 266 267 268 269 270 271 272 273 274 275 276 277 278 279 280 281 282 283 284 285 286 287 288 289 290 291 292 293 294 295 296 297 298 299 300 301 302 303 304 305 306 307 308 309 310 311 312 313 314 315 316 317 318 319 320 321 322 323 324 325 326 327 328 329 330 331 332 333 334 335 336 337 338 339 340 341 342 343 344 345 346 347 348 349 350 351 352 353 354 355 356 357 358 359 360 361 362 363 364 365 366 367 368 369 370 371 372 373 374 375 376 377 378 379 "
     ]
    }
   ],
   "source": [
    "df_price = []\n",
    "df_labels = []\n",
    "df_trans = []\n",
    "df_buz = []\n",
    "k = 1\n",
    "for trans, hos, school, buz in zip(all_houses, all_hos, all_school, all_buz):\n",
    "    \n",
    "    print(k, end=' ')\n",
    "    p_price = '<div class=\"main-detail mod\">.*?<div class=\"basic-details\">.*?<dd class=\"price\">(.*?)<dd>'\n",
    "    price = re.findall(p_price, trans, re.S)\n",
    "    price[0] = re.sub('\\n', '', price[0].strip())\n",
    "    price[0] = re.sub('<.*?>', '', price[0].strip())\n",
    "    df_price.append(price[0])\n",
    "    \n",
    "    p_labels = '<div class=\"main-detail mod\">.*?<div class=\"basic-details\">.*?<div class=\"tags\">(.*?)</div>'\n",
    "    labels = re.findall(p_labels, trans, re.S)\n",
    "    labels[0] = re.sub('\\n', '', labels[0].strip())\n",
    "    labels[0] = re.sub('<.*?>', '', labels[0].strip())\n",
    "    df_labels.append(labels[0])\n",
    "    \n",
    "    peri = []\n",
    "    p_peri = '<div class=\"mod life-content\">.*?<div class=\"life-detail\">.*?<div class=\"life-list\">(.*?)<ul id=\"life-list\"'\n",
    "    p_trans = re.findall(p_peri, trans, re.S)\n",
    "    p_trans[0] = re.sub('\\n', '', p_trans[0].strip())\n",
    "    p_trans[0] = re.sub('<.*?>', '', p_trans[0].strip())\n",
    "    df_trans.append(p_trans[0])\n",
    "    \n",
    "    '''\n",
    "    p_hos = re.findall(p_peri, hos, re.S)\n",
    "    p_hos[0] = re.sub('\\n', '', p_hos[0].strip())\n",
    "    p_hos[0] = re.sub('<.*?>', '', p_hos[0].strip())\n",
    "    \n",
    "    p_school = re.findall(p_peri, school, re.S)\n",
    "    p_school[0] = re.sub('\\n', '', p_school[0].strip())\n",
    "    p_school[0] = re.sub('<.*?>', '', p_school[0].strip())\n",
    "    '''\n",
    "    if buz == 'NOT FOUND':\n",
    "        df_buz.append('NOT FOUND')\n",
    "    else:\n",
    "        p_buz = re.findall(p_peri, buz, re.S)\n",
    "        p_buz[0] = re.sub('\\n', '', p_buz[0].strip())\n",
    "        p_buz[0] = re.sub('<.*?>', '', p_buz[0].strip())\n",
    "        df_buz.append(p_buz[0])\n",
    "    \n",
    "    k += 1"
   ]
  },
  {
   "cell_type": "markdown",
   "metadata": {},
   "source": [
    " - including school and hospital"
   ]
  },
  {
   "cell_type": "code",
   "execution_count": 244,
   "metadata": {
    "scrolled": true
   },
   "outputs": [
    {
     "name": "stdout",
     "output_type": "stream",
     "text": [
      "1 2 3 4 5 6 7 8 9 10 11 12 13 14 15 16 17 18 19 20 21 22 23 24 25 26 27 28 29 30 31 32 33 34 35 36 37 38 39 40 41 42 43 44 45 46 47 48 49 50 51 52 53 54 55 56 57 58 59 60 61 62 63 64 65 66 67 68 69 70 71 72 73 74 75 76 77 78 79 80 81 82 83 84 85 86 87 88 89 90 91 92 93 94 95 96 97 98 99 100 101 102 103 104 105 106 107 108 109 110 111 112 113 114 115 116 117 118 119 120 121 122 123 124 125 126 127 128 129 130 131 132 133 134 135 136 137 138 139 140 141 142 143 144 145 146 147 148 149 150 151 152 153 154 155 156 157 158 159 160 161 162 163 164 165 166 167 168 169 170 171 172 173 174 175 176 177 178 179 180 181 182 183 184 185 186 187 188 189 190 191 192 193 194 195 196 197 198 199 200 201 202 203 204 205 206 207 208 209 210 211 212 213 214 215 216 217 218 219 220 221 222 223 224 225 226 227 228 229 230 231 232 233 234 235 236 237 238 239 240 241 242 243 244 245 246 247 248 249 250 251 252 253 254 255 256 257 258 259 260 261 262 263 264 265 266 267 268 269 270 271 272 273 274 275 276 277 278 279 280 281 282 283 284 285 286 287 288 289 290 291 292 293 294 295 296 297 298 299 300 301 302 303 304 305 306 307 308 309 310 311 312 313 314 315 316 317 318 319 320 321 322 323 324 325 326 327 328 329 330 331 332 333 334 335 336 337 338 339 340 341 342 343 344 345 346 347 348 349 350 351 352 353 354 355 356 357 358 359 360 361 362 363 364 365 366 367 368 369 370 371 372 373 374 375 376 377 378 379 "
     ]
    }
   ],
   "source": [
    "df_school = []\n",
    "df_hos = []\n",
    "k = 1\n",
    "for hos, school in zip(all_hos, all_school):\n",
    "    \n",
    "    print(k, end=' ')\n",
    "    \n",
    "    p_peri = '<div class=\"mod life-content\">.*?<div class=\"life-detail\">.*?<div class=\"life-list\">(.*?)<ul id=\"life-list\"'\n",
    "\n",
    "    if '页面已经被删除' in hos:\n",
    "        df_hos.append('LOST')\n",
    "    else:\n",
    "        p_hos = re.findall(p_peri, hos, re.S)\n",
    "        p_hos[0] = re.sub('\\n', '', p_hos[0].strip())\n",
    "        p_hos[0] = re.sub('<.*?>', '', p_hos[0].strip())\n",
    "        df_hos.append(p_hos[0])\n",
    "    \n",
    "    if school == 'NOT FOUNDD':\n",
    "        df_school.append('NOT FOUNDD')\n",
    "    elif '页面已经被删除' in school:\n",
    "        df_school.append('LOST')\n",
    "    else:\n",
    "        p_school = re.findall(p_peri, school, re.S)\n",
    "        p_school[0] = re.sub('\\n', '', p_school[0].strip())\n",
    "        p_school[0] = re.sub('<.*?>', '', p_school[0].strip())\n",
    "        df_school.append(p_school[0])\n",
    "    \n",
    "    k += 1"
   ]
  },
  {
   "cell_type": "markdown",
   "metadata": {},
   "source": [
    "### Extract specific numbers of school/hospital/transportation/business"
   ]
  },
  {
   "cell_type": "markdown",
   "metadata": {},
   "source": [
    "- schools"
   ]
  },
  {
   "cell_type": "code",
   "execution_count": 268,
   "metadata": {
    "collapsed": true
   },
   "outputs": [
    {
     "name": "stdout",
     "output_type": "stream",
     "text": [
      "1 2 3 4 5 6 7 8 9 10 11 12 13 14 15 16 17 18 19 20 21 22 23 24 25 26 27 28 29 30 31 32 33 34 35 36 37 38 39 40 41 42 43 44 45 46 47 48 49 50 51 52 53 54 55 56 57 58 59 60 61 62 63 64 65 66 67 68 69 70 71 72 73 74 75 76 77 78 79 80 81 82 83 84 85 86 87 88 89 90 91 92 93 94 95 96 97 98 99 100 101 102 103 104 105 106 107 108 109 110 111 112 113 114 115 116 117 118 119 120 121 122 123 124 125 126 127 128 129 130 131 132 133 134 135 136 137 138 139 140 141 142 143 144 145 146 147 148 149 150 151 152 153 154 155 156 157 158 159 160 161 162 163 164 165 166 167 168 169 170 171 172 173 174 175 176 177 178 179 180 181 182 183 184 185 186 187 188 189 190 191 192 193 194 195 196 197 198 199 200 201 202 203 204 205 206 207 208 209 210 211 212 213 214 215 216 217 218 219 220 221 222 223 224 225 226 227 228 229 230 231 232 233 234 235 236 237 238 239 240 241 242 243 244 245 246 247 248 249 250 251 252 253 254 255 256 257 258 259 260 261 262 263 264 265 266 267 268 269 270 271 272 273 274 275 276 277 278 279 280 281 282 283 284 285 286 287 288 289 290 291 292 293 294 295 296 297 298 299 300 301 302 303 304 305 306 307 308 309 310 311 312 313 314 315 316 317 318 319 320 321 322 323 324 325 326 327 328 329 330 331 332 333 334 335 336 337 338 339 340 341 342 343 344 345 346 347 348 349 350 351 352 353 354 355 356 357 358 359 360 361 362 363 364 365 366 367 368 369 370 371 372 373 374 375 376 377 378 379 "
     ]
    }
   ],
   "source": [
    "df_schools = []\n",
    "k = 1\n",
    "for school in df_school:\n",
    "    print(k, end=' ')\n",
    "    if school.isspace():\n",
    "        df_schools.append('nan')\n",
    "    else:\n",
    "        school = school[25:]\n",
    "        if '学校' in school:\n",
    "            nums = re.findall('学校(.*?)处', school, re.S)\n",
    "            df_schools.append(nums[0])\n",
    "        else:\n",
    "            df_schools.append(0)\n",
    "\n",
    "    k += 1"
   ]
  },
  {
   "cell_type": "code",
   "execution_count": 270,
   "metadata": {},
   "outputs": [],
   "source": [
    "excel2.loc['schools',:] = ['schools'] + df_schools\n",
    "excel2.loc['school',:] = ['school'] + df_school"
   ]
  },
  {
   "cell_type": "code",
   "execution_count": 272,
   "metadata": {},
   "outputs": [],
   "source": [
    "excel2.to_excel('semi-info+price+labels+trans+buz+hos+school.xlsx')"
   ]
  },
  {
   "cell_type": "markdown",
   "metadata": {},
   "source": [
    "- hospital"
   ]
  },
  {
   "cell_type": "code",
   "execution_count": 255,
   "metadata": {
    "collapsed": true
   },
   "outputs": [
    {
     "name": "stdout",
     "output_type": "stream",
     "text": [
      "1 2 3 4 5 6 7 8 9 10 11 12 13 14 15 16 17 18 19 20 21 22 23 24 25 26 27 28 29 30 31 32 33 34 35 36 37 38 39 40 41 42 43 44 45 46 47 48 49 50 51 52 53 54 55 56 57 58 59 60 61 62 63 64 65 66 67 68 69 70 71 72 73 74 75 76 77 78 79 80 81 82 83 84 85 86 87 88 89 90 91 92 93 94 95 96 97 98 99 100 101 102 103 104 105 106 107 108 109 110 111 112 113 114 115 116 117 118 119 120 121 122 123 124 125 126 127 128 129 130 131 132 133 134 135 136 137 138 139 140 141 142 143 144 145 146 147 148 149 150 151 152 153 154 155 156 157 158 159 160 161 162 163 164 165 166 167 168 169 170 171 172 173 174 175 176 177 178 179 180 181 182 183 184 185 186 187 188 189 190 191 192 193 194 195 196 197 198 199 200 201 202 203 204 205 206 207 208 209 210 211 212 213 214 215 216 217 218 219 220 221 222 223 224 225 226 227 228 229 230 231 232 233 234 235 236 237 238 239 240 241 242 243 244 245 246 247 248 249 250 251 252 253 254 255 256 257 258 259 260 261 262 263 264 265 266 267 268 269 270 271 272 273 274 275 276 277 278 279 280 281 282 283 284 285 286 287 288 289 290 291 292 293 294 295 296 297 298 299 300 301 302 303 304 305 306 307 308 309 310 311 312 313 314 315 316 317 318 319 320 321 322 323 324 325 326 327 328 329 330 331 332 333 334 335 336 337 338 339 340 341 342 343 344 345 346 347 348 349 350 351 352 353 354 355 356 357 358 359 360 361 362 363 364 365 366 367 368 369 370 371 372 373 374 375 376 377 378 379 "
     ]
    }
   ],
   "source": [
    "df_hospitals = []\n",
    "k = 1\n",
    "for hos in df_hos:\n",
    "    print(k, end=' ')\n",
    "    if hos.isspace():\n",
    "        df_hospitals.append('nan')\n",
    "    else:\n",
    "        hos = hos[25:]\n",
    "        if '医院' in hos:\n",
    "            nums = re.findall('医院(.*?)处', hos, re.S)\n",
    "            df_hospitals.append(nums[0])\n",
    "        else:\n",
    "            df_hospitals.append(0)\n",
    "\n",
    "    k += 1"
   ]
  },
  {
   "cell_type": "code",
   "execution_count": 257,
   "metadata": {},
   "outputs": [],
   "source": [
    "excel2.loc['hospitals',:] = ['hospitals'] + df_hospitals\n",
    "excel2.loc['hos',:] = ['hos'] + df_hos"
   ]
  },
  {
   "cell_type": "code",
   "execution_count": 259,
   "metadata": {},
   "outputs": [],
   "source": [
    "excel2.to_excel('semi-info+price+labels+trans+buz+hos.xlsx')"
   ]
  },
  {
   "cell_type": "markdown",
   "metadata": {},
   "source": [
    "- trans"
   ]
  },
  {
   "cell_type": "code",
   "execution_count": 201,
   "metadata": {
    "collapsed": true
   },
   "outputs": [
    {
     "name": "stdout",
     "output_type": "stream",
     "text": [
      "1 2 3 4 5 6 7 8 9 10 11 12 13 14 15 16 17 18 19 20 21 22 23 24 25 26 27 28 29 30 31 32 33 34 35 36 37 38 39 40 41 42 43 44 45 46 47 48 49 50 51 52 53 54 55 56 57 58 59 60 61 62 63 64 65 66 67 68 69 70 71 72 73 74 75 76 77 78 79 80 81 82 83 84 85 86 87 88 89 90 91 92 93 94 95 96 97 98 99 100 101 102 103 104 105 106 107 108 109 110 111 112 113 114 115 116 117 118 119 120 121 122 123 124 125 126 127 128 129 130 131 132 133 134 135 136 137 138 139 140 141 142 143 144 145 146 147 148 149 150 151 152 153 154 155 156 157 158 159 160 161 162 163 164 165 166 167 168 169 170 171 172 173 174 175 176 177 178 179 180 181 182 183 184 185 186 187 188 189 190 191 192 193 194 195 196 197 198 199 200 201 202 203 204 205 206 207 208 209 210 211 212 213 214 215 216 217 218 219 220 221 222 223 224 225 226 227 228 229 230 231 232 233 234 235 236 237 238 239 240 241 242 243 244 245 246 247 248 249 250 251 252 253 254 255 256 257 258 259 260 261 262 263 264 265 266 267 268 269 270 271 272 273 274 275 276 277 278 279 280 281 282 283 284 285 286 287 288 289 290 291 292 293 294 295 296 297 298 299 300 301 302 303 304 305 306 307 308 309 310 311 312 313 314 315 316 317 318 319 320 321 322 323 324 325 326 327 328 329 330 331 332 333 334 335 336 337 338 339 340 341 342 343 344 345 346 347 348 349 350 351 352 353 354 355 356 357 358 359 360 361 362 363 364 365 366 367 368 369 370 371 372 373 374 375 376 377 378 379 "
     ]
    }
   ],
   "source": [
    "df_subway = []\n",
    "df_bus = []\n",
    "k = 1\n",
    "for tr in df_trans:\n",
    "    print(k, end=' ')\n",
    "    if tr.isspace():\n",
    "        df_subway.append('nan')\n",
    "        df_bus.append('nan')\n",
    "    else:\n",
    "        tr = tr[25:]\n",
    "        if '条地铁' in tr:\n",
    "            df_subway.append(tr[0])\n",
    "            tr = tr[5:]\n",
    "        else:\n",
    "            df_subway.append(0)\n",
    "        if '公交站' in tr:\n",
    "            num = re.findall('\\d+\\.?\\d*', tr, re.S)\n",
    "            df_bus.append(num[0])\n",
    "        else:\n",
    "            df_bus.append(0)\n",
    "    k += 1"
   ]
  },
  {
   "cell_type": "code",
   "execution_count": 203,
   "metadata": {},
   "outputs": [],
   "source": [
    "excel2.loc['subway',:] = ['subway'] + df_subway\n",
    "excel2.loc['bus',:] = ['bus'] + df_bus\n",
    "excel2.loc['trans',:] = ['trans'] + df_trans"
   ]
  },
  {
   "cell_type": "code",
   "execution_count": 205,
   "metadata": {},
   "outputs": [],
   "source": [
    "excel2.to_excel('semi-info+price+labels+trans+buz.xlsx')"
   ]
  },
  {
   "cell_type": "markdown",
   "metadata": {},
   "source": [
    "- business"
   ]
  },
  {
   "cell_type": "code",
   "execution_count": 214,
   "metadata": {
    "collapsed": true
   },
   "outputs": [
    {
     "name": "stdout",
     "output_type": "stream",
     "text": [
      "1 2 3 4 5 6 7 8 9 10 11 12 13 14 15 16 17 18 19 20 21 22 23 24 25 26 27 28 29 30 31 32 33 34 35 36 37 38 39 40 41 42 43 44 45 46 47 48 49 50 51 52 53 54 55 56 57 58 59 60 61 62 63 64 65 66 67 68 69 70 71 72 73 74 75 76 77 78 79 80 81 82 83 84 85 86 87 88 89 90 91 92 93 94 95 96 97 98 99 100 101 102 103 104 105 106 107 108 109 110 111 112 113 114 115 116 117 118 119 120 121 122 123 124 125 126 127 128 129 130 131 132 133 134 135 136 137 138 139 140 141 142 143 144 145 146 147 148 149 150 151 152 153 154 155 156 157 158 159 160 161 162 163 164 165 166 167 168 169 170 171 172 173 174 175 176 177 178 179 180 181 182 183 184 185 186 187 188 189 190 191 192 193 194 195 196 197 198 199 200 201 202 203 204 205 206 207 208 209 210 211 212 213 214 215 216 217 218 219 220 221 222 223 224 225 226 227 228 229 230 231 232 233 234 235 236 237 238 239 240 241 242 243 244 245 246 247 248 249 250 251 252 253 254 255 256 257 258 259 260 261 262 263 264 265 266 267 268 269 270 271 272 273 274 275 276 277 278 279 280 281 282 283 284 285 286 287 288 289 290 291 292 293 294 295 296 297 298 299 300 301 302 303 304 305 306 307 308 309 310 311 312 313 314 315 316 317 318 319 320 321 322 323 324 325 326 327 328 329 330 331 332 333 334 335 336 337 338 339 340 341 342 343 344 345 346 347 348 349 350 351 352 353 354 355 356 357 358 359 360 361 362 363 364 365 366 367 368 369 370 371 372 373 374 375 376 377 378 379 "
     ]
    }
   ],
   "source": [
    "df_shopping = []\n",
    "df_bank = []\n",
    "df_food = []\n",
    "k = 1\n",
    "for buz in df_buz:\n",
    "    print(k, end=' ')\n",
    "    if buz.isspace():\n",
    "        df_shopping.append('nan')\n",
    "        df_bank.append('nan')\n",
    "        df_food.append('nan')\n",
    "    else:\n",
    "        buz = buz[25:]\n",
    "        if '购物' in buz:\n",
    "            shopping = re.findall('购物(.*?)处', buz, re.S)\n",
    "            df_shopping.append(shopping[0])\n",
    "        else:\n",
    "            df_shopping.append(0)\n",
    "        if '银行' in buz:\n",
    "            bank = re.findall('银行(.*?)处', buz, re.S)\n",
    "            df_bank.append(bank[0])\n",
    "        else:\n",
    "            df_bank.append(0)\n",
    "        if '餐饮' in buz:\n",
    "            food = re.findall('餐饮(.*?)处', buz, re.S)\n",
    "            df_food.append(food[0])\n",
    "        else:\n",
    "            df_food.append(0)\n",
    "    k += 1"
   ]
  },
  {
   "cell_type": "code",
   "execution_count": 218,
   "metadata": {},
   "outputs": [],
   "source": [
    "excel2.loc['shopping',:] = ['shopping'] + df_shopping\n",
    "excel2.loc['bank',:] = ['bank'] + df_bank\n",
    "excel2.loc['food',:] = ['food'] + df_food"
   ]
  },
  {
   "cell_type": "code",
   "execution_count": 221,
   "metadata": {},
   "outputs": [],
   "source": [
    "excel2.loc['business',:] = ['business'] + df_buz"
   ]
  },
  {
   "cell_type": "code",
   "execution_count": 222,
   "metadata": {},
   "outputs": [],
   "source": [
    "excel2.to_excel('semi-info+price+labels+trans+buz.xlsx')"
   ]
  },
  {
   "cell_type": "markdown",
   "metadata": {},
   "source": [
    "### Extract specific condition of furnish/volume"
   ]
  },
  {
   "cell_type": "markdown",
   "metadata": {},
   "source": [
    "- labels"
   ]
  },
  {
   "cell_type": "code",
   "execution_count": 161,
   "metadata": {
    "collapsed": true
   },
   "outputs": [
    {
     "name": "stdout",
     "output_type": "stream",
     "text": [
      "1 2 3 4 5 6 7 8 9 10 11 12 13 14 15 16 17 18 19 20 21 22 23 24 25 26 27 28 29 30 31 32 33 34 35 36 37 38 39 40 41 42 43 44 45 46 47 48 49 50 51 52 53 54 55 56 57 58 59 60 61 62 63 64 65 66 67 68 69 70 71 72 73 74 75 76 77 78 79 80 81 82 83 84 85 86 87 88 89 90 91 92 93 94 95 96 97 98 99 100 101 102 103 104 105 106 107 108 109 110 111 112 113 114 115 116 117 118 119 120 121 122 123 124 125 126 127 128 129 130 131 132 133 134 135 136 137 138 139 140 141 142 143 144 145 146 147 148 149 150 151 152 153 154 155 156 157 158 159 160 161 162 163 164 165 166 167 168 169 170 171 172 173 174 175 176 177 178 179 180 181 182 183 184 185 186 187 188 189 190 191 192 193 194 195 196 197 198 199 200 201 202 203 204 205 206 207 208 209 210 211 212 213 214 215 216 217 218 219 220 221 222 223 224 225 226 227 228 229 230 231 232 233 234 235 236 237 238 239 240 241 242 243 244 245 246 247 248 249 250 251 252 253 254 255 256 257 258 259 260 261 262 263 264 265 266 267 268 269 270 271 272 273 274 275 276 277 278 279 280 281 282 283 284 285 286 287 288 289 290 291 292 293 294 295 296 297 298 299 300 301 302 303 304 305 306 307 308 309 310 311 312 313 314 315 316 317 318 319 320 321 322 323 324 325 326 327 328 329 330 331 332 333 334 335 336 337 338 339 340 341 342 343 344 345 346 347 348 349 350 351 352 353 354 355 356 357 358 359 360 361 362 363 364 365 366 367 368 369 370 371 372 373 374 375 376 377 378 379 "
     ]
    }
   ],
   "source": [
    "df_furnish = [] # 1代表装修 0代表毛坯\n",
    "df_volume = [] # 1代表低容积，0代表无\n",
    "k = 1\n",
    "for label in df_labels:\n",
    "    print(k, end=' ')\n",
    "    if '装修交付' in label:\n",
    "        df_furnish.append(1)\n",
    "    else:\n",
    "        df_furnish.append(0)\n",
    "    if '低容积' in label:\n",
    "        df_volume.append(1)\n",
    "    else:\n",
    "        df_volume.append(0)\n",
    "    \n",
    "    k += 1"
   ]
  },
  {
   "cell_type": "code",
   "execution_count": 166,
   "metadata": {},
   "outputs": [],
   "source": [
    "excel2.loc['furnish',:] = ['furnish'] + df_furnish\n",
    "excel2.loc['volume',:] = ['volume'] + df_volume\n",
    "excel2.loc['labels',:] = ['labels'] + df_labels"
   ]
  },
  {
   "cell_type": "code",
   "execution_count": 169,
   "metadata": {},
   "outputs": [],
   "source": [
    "excel2.to_excel('semi-info+price+labels.xlsx')"
   ]
  },
  {
   "cell_type": "markdown",
   "metadata": {},
   "source": [
    "### Extract specific number of price"
   ]
  },
  {
   "cell_type": "markdown",
   "metadata": {},
   "source": [
    "- price"
   ]
  },
  {
   "cell_type": "code",
   "execution_count": 149,
   "metadata": {
    "collapsed": true
   },
   "outputs": [
    {
     "name": "stdout",
     "output_type": "stream",
     "text": [
      "1 2 3 4 5 6 7 8 9 10 11 12 13 14 15 16 17 18 19 20 21 22 23 24 25 26 27 28 29 30 31 32 33 34 35 36 37 38 39 40 41 42 43 44 45 46 47 48 49 50 51 52 53 54 55 56 57 58 59 60 61 62 63 64 65 66 67 68 69 70 71 72 73 74 75 76 77 78 79 80 81 82 83 84 85 86 87 88 89 90 91 92 93 94 95 96 97 98 99 100 101 102 103 104 105 106 107 108 109 110 111 112 113 114 115 116 117 118 119 120 121 122 123 124 125 126 127 128 129 130 131 132 133 134 135 136 137 138 139 140 141 142 143 144 145 146 147 148 149 150 151 152 153 154 155 156 157 158 159 160 161 162 163 164 165 166 167 168 169 170 171 172 173 174 175 176 177 178 179 180 181 182 183 184 185 186 187 188 189 190 191 192 193 194 195 196 197 198 199 200 201 202 203 204 205 206 207 208 209 210 211 212 213 214 215 216 217 218 219 220 221 222 223 224 225 226 227 228 229 230 231 232 233 234 235 236 237 238 239 240 241 242 243 244 245 246 247 248 249 250 251 252 253 254 255 256 257 258 259 260 261 262 263 264 265 266 267 268 269 270 271 272 273 274 275 276 277 278 279 280 281 282 283 284 285 286 287 288 289 290 291 292 293 294 295 296 297 298 299 300 301 302 303 304 305 306 307 308 309 310 311 312 313 314 315 316 317 318 319 320 321 322 323 324 325 326 327 328 329 330 331 332 333 334 335 336 337 338 339 340 341 342 343 344 345 346 347 348 349 350 351 352 353 354 355 356 357 358 359 360 361 362 363 364 365 366 367 368 369 370 371 372 373 374 375 376 377 378 379 "
     ]
    }
   ],
   "source": [
    "df_price_num = []\n",
    "k = 1\n",
    "for p in df_price:\n",
    "    print(k, end=' ')\n",
    "    # set price of villa to nan (because it is not in the scope of the study)\n",
    "    if '套' in p:\n",
    "        df_price_num.append('nan')\n",
    "    else:\n",
    "        p_ = re.sub('\\uebf5', '', p)\n",
    "        num = re.findall('\\d+\\.?\\d*', p_, re.S)\n",
    "        if num:\n",
    "            df_price_num.append(num[0])\n",
    "        else:\n",
    "            df_price_num.append('nan')\n",
    "    k += 1"
   ]
  },
  {
   "cell_type": "code",
   "execution_count": 155,
   "metadata": {},
   "outputs": [],
   "source": [
    "excel2.loc['price_new',:] = ['price_new'] + df_price_num"
   ]
  },
  {
   "cell_type": "code",
   "execution_count": 157,
   "metadata": {},
   "outputs": [],
   "source": [
    "excel2.to_excel('semi-info+price.xlsx')"
   ]
  },
  {
   "cell_type": "markdown",
   "metadata": {},
   "source": [
    "### Extract specific information of link, name, address"
   ]
  },
  {
   "cell_type": "code",
   "execution_count": 130,
   "metadata": {},
   "outputs": [
    {
     "data": {
      "text/plain": [
       "['39800']"
      ]
     },
     "execution_count": 130,
     "metadata": {},
     "output_type": "execute_result"
    }
   ],
   "source": [
    "# pick out the numbers\n",
    "re.findall('\\d+\\.?\\d*', df_price[0], re.S)"
   ]
  },
  {
   "cell_type": "code",
   "execution_count": null,
   "metadata": {},
   "outputs": [],
   "source": [
    "for info in all_info:\n",
    "    # divide into single house's info\n",
    "    houses = info.split('<!-- 2017/07/27 -->')\n",
    "    \n",
    "    k=1\n",
    "    \n",
    "    for house in houses[1:]:\n",
    "        print(k, end=' ')\n",
    "        k += 1\n",
    "        \n",
    "        # create a list to store info of the house\n",
    "        house_list = [district]\n",
    "\n",
    "        # info except price\n",
    "        p_info = '<div class=\"infos\"(.*?)<a class=\"favor-pos\"'\n",
    "        info = re.findall(p_info, house, re.S)\n",
    "        ### link\n",
    "        p_link = '<a class=\"lp-name\" href=\"(.*?)\" soj='\n",
    "        link = re.findall(p_link, info[0], re.S)\n",
    "        house_list.append(link[0])\n",
    "        ### name\n",
    "        p_name = '<span class=\"items-name\">(.*?)<a class=\"address\"'\n",
    "        name = re.findall(p_name, info[0], re.S)\n",
    "        name[0] = re.sub('<.*?>', '', name[0].strip())\n",
    "        house_list.append(name[0].strip())\n",
    "        ### address\n",
    "        p_address = '<a class=\"address\" .*?<span class=\"list-map\"(.*?)<a class=\"tags-wrap\"'\n",
    "        address = re.findall(p_address, info[0], re.S)\n",
    "        address[0] = re.sub('<.*?>', '', address[0].strip())\n",
    "        address[0] = re.sub('&nbsp;', '', address[0].strip())\n",
    "        address[0] = re.sub('.*?>', '', address[0].strip())\n",
    "        house_list.append(address[0].strip())\n",
    "        '''\n",
    "        ### labels\n",
    "        p_labels = '<a class=\"tags-wrap\".*?<div class=\"tag-panel\">(.*?)<a class=\"favor-pos\">'\n",
    "        labels = re.findall(p_labels, info[0], re.S)\n",
    "        labels[0] = re.sub('<.*?class.*?>', ',', labels[0].strip())\n",
    "        labels[0] = re.sub('<.*?>', '', labels[0].strip())\n",
    "        labels[0] = re.sub('\\n', '', labels[0].strip())\n",
    "        house_list.append(labels[0].strip())\n",
    "        '''\n",
    "        \n",
    "        # price\n",
    "        p_price = '<a class=\"favor-pos\".*?<p class=\"price(.*?)</p>'\n",
    "        ### if the price is not determined, use the average price of the surrounding houses\n",
    "        if '售价待定' in price[0]:\n",
    "            p_around = '<p class=\"favor-tag around-price\">(.*?)</p>'\n",
    "            price = re.findall(p_around, house, re.S)\n",
    "            if price:\n",
    "                c_price = re.sub('<.*?>', '', price[0].strip())\n",
    "            else:\n",
    "                c_price = 'nan'\n",
    "        else:\n",
    "            price = re.findall(p_price, house, re.S)\n",
    "            c_price = re.sub('<.*?>', '', price[0].strip())\n",
    "\n",
    "        house_list.append(c_price)\n",
    "\n",
    "        # add to the dataframe\n",
    "        excel2[name[0]] = house_list"
   ]
  },
  {
   "cell_type": "code",
   "execution_count": 114,
   "metadata": {},
   "outputs": [],
   "source": [
    "### a test run of the information for one house\n",
    "for house in houses[1:]:\n",
    "    house_list = [district]\n",
    "    \n",
    "    p_info = '<div class=\"infos\"(.*?)<a class=\"favor-pos\"'\n",
    "    info = re.findall(p_info, house, re.S)\n",
    "    # link\n",
    "    p_link = '<a class=\"lp-name\" href=\"(.*?)\" soj='\n",
    "    link = re.findall(p_link, info[0], re.S)\n",
    "    house_list.append(link[0])\n",
    "    \n",
    "    # name\n",
    "    p_name = '<span class=\"items-name\">(.*?)<a class=\"address\"'\n",
    "    name = re.findall(p_name, info[0], re.S)\n",
    "    name[0] = re.sub('<.*?>', '', name[0].strip())\n",
    "    house_list.append(name[0].strip())\n",
    "    \n",
    "    # address\n",
    "    p_address = '<a class=\"address\" .*?<span class=\"list-map\"(.*?)<a class=\"tags-wrap\"'\n",
    "    address = re.findall(p_address, info[0], re.S)\n",
    "    address[0] = re.sub('<.*?>', '', address[0].strip())\n",
    "    address[0] = re.sub('&nbsp;', '', address[0].strip())\n",
    "    address[0] = re.sub('.*?>', '', address[0].strip())\n",
    "    house_list.append(address[0].strip())\n",
    "    \n",
    "    '''\n",
    "    # labels\n",
    "    p_labels = '<a class=\"tags-wrap\".*?<div class=\"tag-panel\">(.*?)<a class=\"favor-pos\">'\n",
    "    labels = re.findall(p_labels, info[0], re.S)\n",
    "    labels[0] = re.sub('<.*?class.*?>', ',', labels[0].strip())\n",
    "    labels[0] = re.sub('<.*?>', '', labels[0].strip())\n",
    "    labels[0] = re.sub('\\n', '', labels[0].strip())\n",
    "    house_list.append(labels[0].strip())\n",
    "    '''\n",
    "    \n",
    "    # price\n",
    "    p_price = '<a class=\"favor-pos\".*?<p class=\"price(.*?)</p>'\n",
    "    price = re.findall(p_price, house, re.S)\n",
    "    price[0] = re.sub('<.*?>', '', price[0].strip())\n",
    "    house_list.append(price[0].strip())\n",
    "    \n",
    "    excel[name[0]] = house_list"
   ]
  },
  {
   "cell_type": "code",
   "execution_count": 273,
   "metadata": {},
   "outputs": [
    {
     "data": {
      "text/html": [
       "<div>\n",
       "<style scoped>\n",
       "    .dataframe tbody tr th:only-of-type {\n",
       "        vertical-align: middle;\n",
       "    }\n",
       "\n",
       "    .dataframe tbody tr th {\n",
       "        vertical-align: top;\n",
       "    }\n",
       "\n",
       "    .dataframe thead th {\n",
       "        text-align: right;\n",
       "    }\n",
       "</style>\n",
       "<table border=\"1\" class=\"dataframe\">\n",
       "  <thead>\n",
       "    <tr style=\"text-align: right;\">\n",
       "      <th></th>\n",
       "      <th>index</th>\n",
       "      <th>林肯时代\\n\\t\\t\\t</th>\n",
       "      <th>恒大花溪小镇\\n\\t\\t\\t</th>\n",
       "      <th>湖光壹号\\n\\t\\t\\t</th>\n",
       "      <th>瑞悦府\\n\\t\\t\\t</th>\n",
       "      <th>北京城建•朝青知筑\\n\\t\\t\\t</th>\n",
       "      <th>中海枫丹公馆\\n\\t\\t\\t</th>\n",
       "      <th>北京恒大华府\\n\\t\\t\\t</th>\n",
       "      <th>天瑞宸章\\n\\t\\t\\t</th>\n",
       "      <th>丽都悦府\\n\\t\\t\\t</th>\n",
       "      <th>...</th>\n",
       "      <th>蓝桥驿苑\\n\\t\\t\\t</th>\n",
       "      <th>天同11号\\n\\t\\t\\t</th>\n",
       "      <th>金融街融汇\\n\\t\\t\\t</th>\n",
       "      <th>当代采育满庭春MOMA\\n\\t\\t\\t</th>\n",
       "      <th>北京明发广场\\n\\t\\t\\t</th>\n",
       "      <th>金第万科金域东郡\\n\\t\\t\\t</th>\n",
       "      <th>cago寓所\\n\\t\\t\\t</th>\n",
       "      <th>首开住总·国悦居\\n\\t\\t\\t</th>\n",
       "      <th>北京金科天籁城\\n\\t\\t\\t</th>\n",
       "      <th>旭辉汇璟园\\n\\t\\t\\t</th>\n",
       "    </tr>\n",
       "    <tr>\n",
       "      <th>index</th>\n",
       "      <th></th>\n",
       "      <th></th>\n",
       "      <th></th>\n",
       "      <th></th>\n",
       "      <th></th>\n",
       "      <th></th>\n",
       "      <th></th>\n",
       "      <th></th>\n",
       "      <th></th>\n",
       "      <th></th>\n",
       "      <th></th>\n",
       "      <th></th>\n",
       "      <th></th>\n",
       "      <th></th>\n",
       "      <th></th>\n",
       "      <th></th>\n",
       "      <th></th>\n",
       "      <th></th>\n",
       "      <th></th>\n",
       "      <th></th>\n",
       "      <th></th>\n",
       "    </tr>\n",
       "  </thead>\n",
       "  <tbody>\n",
       "    <tr>\n",
       "      <td>district</td>\n",
       "      <td>district</td>\n",
       "      <td>chaoyang</td>\n",
       "      <td>chaoyang</td>\n",
       "      <td>chaoyang</td>\n",
       "      <td>chaoyang</td>\n",
       "      <td>chaoyang</td>\n",
       "      <td>chaoyang</td>\n",
       "      <td>chaoyang</td>\n",
       "      <td>chaoyang</td>\n",
       "      <td>chaoyang</td>\n",
       "      <td>...</td>\n",
       "      <td>daxing</td>\n",
       "      <td>daxing</td>\n",
       "      <td>daxing</td>\n",
       "      <td>daxing</td>\n",
       "      <td>daxing</td>\n",
       "      <td>daxing</td>\n",
       "      <td>daxing</td>\n",
       "      <td>daxing</td>\n",
       "      <td>daxing</td>\n",
       "      <td>daxing</td>\n",
       "    </tr>\n",
       "    <tr>\n",
       "      <td>link</td>\n",
       "      <td>link</td>\n",
       "      <td>https://bj.fang.anjuke.com/loupan/453476.html</td>\n",
       "      <td>https://bj.fang.anjuke.com/loupan/417696.html</td>\n",
       "      <td>https://bj.fang.anjuke.com/loupan/416443.html?...</td>\n",
       "      <td>https://bj.fang.anjuke.com/loupan/435260.html?...</td>\n",
       "      <td>https://bj.fang.anjuke.com/loupan/439965.html?...</td>\n",
       "      <td>https://bj.fang.anjuke.com/loupan/455460.html?...</td>\n",
       "      <td>https://bj.fang.anjuke.com/loupan/400628.html?...</td>\n",
       "      <td>https://bj.fang.anjuke.com/loupan/445099.html?...</td>\n",
       "      <td>https://bj.fang.anjuke.com/loupan/437085.html?...</td>\n",
       "      <td>...</td>\n",
       "      <td>https://bj.fang.anjuke.com/loupan/249258.html?...</td>\n",
       "      <td>https://bj.fang.anjuke.com/loupan/252025.html?...</td>\n",
       "      <td>https://bj.fang.anjuke.com/loupan/240399.html?...</td>\n",
       "      <td>https://bj.fang.anjuke.com/loupan/250803.html?...</td>\n",
       "      <td>https://bj.fang.anjuke.com/loupan/247986.html?...</td>\n",
       "      <td>https://bj.fang.anjuke.com/loupan/248329.html?...</td>\n",
       "      <td>https://bj.fang.anjuke.com/loupan/237798.html?...</td>\n",
       "      <td>https://bj.fang.anjuke.com/loupan/264033.html?...</td>\n",
       "      <td>https://bj.fang.anjuke.com/loupan/264003.html?...</td>\n",
       "      <td>https://bj.fang.anjuke.com/loupan/412102.html?...</td>\n",
       "    </tr>\n",
       "    <tr>\n",
       "      <td>name</td>\n",
       "      <td>name</td>\n",
       "      <td>林肯时代</td>\n",
       "      <td>恒大花溪小镇</td>\n",
       "      <td>湖光壹号</td>\n",
       "      <td>瑞悦府</td>\n",
       "      <td>北京城建•朝青知筑</td>\n",
       "      <td>中海枫丹公馆</td>\n",
       "      <td>北京恒大华府</td>\n",
       "      <td>天瑞宸章</td>\n",
       "      <td>丽都悦府</td>\n",
       "      <td>...</td>\n",
       "      <td>蓝桥驿苑</td>\n",
       "      <td>天同11号</td>\n",
       "      <td>金融街融汇</td>\n",
       "      <td>当代采育满庭春MOMA</td>\n",
       "      <td>北京明发广场</td>\n",
       "      <td>金第万科金域东郡</td>\n",
       "      <td>cago寓所</td>\n",
       "      <td>首开住总·国悦居</td>\n",
       "      <td>北京金科天籁城</td>\n",
       "      <td>旭辉汇璟园</td>\n",
       "    </tr>\n",
       "    <tr>\n",
       "      <td>address</td>\n",
       "      <td>address</td>\n",
       "      <td>[大兴亦庄]荣京西街（荣京东街地铁站西600米）\\n\\t\\t\\t            \\t...</td>\n",
       "      <td>[北京周边其它]宝坻京津生态新城（津蓟高速九园线出口...\\n\\t\\t\\t         ...</td>\n",
       "      <td>[朝阳望京]湖光中街\\n\\t\\t\\t            \\t\\t            ...</td>\n",
       "      <td>[朝阳孙河]北京市朝阳区黄康路北侧 孙河地铁站西...\\n\\t\\t\\t           ...</td>\n",
       "      <td>[朝阳朝青]地铁6号线褡裢坡站B口东行200米\\n\\t\\t\\t            \\t\\...</td>\n",
       "      <td>[朝阳其他]通惠河北路69号院（朝阳建国门桥东南1...\\n\\t\\t\\t          ...</td>\n",
       "      <td>[朝阳东坝]东五环东坝七棵树以北、坝河以南\\n\\t\\t\\t            \\t\\t ...</td>\n",
       "      <td>[朝阳孙河]京密路与顺黄路交汇处西南800米\\n\\t\\t\\t            \\t\\t...</td>\n",
       "      <td>[朝阳望京]东四环，霄云桥北500米\\n\\t\\t\\t            \\t\\t    ...</td>\n",
       "      <td>...</td>\n",
       "      <td>[大兴黄村]孙村海鑫路北\\n\\t\\t\\t            \\t\\t          ...</td>\n",
       "      <td>[大兴黄村]大兴地铁4号大兴线黄村西大街站向西20...\\n\\t\\t\\t          ...</td>\n",
       "      <td>[大兴天宫院]新城核心区地铁天宫院站北侧300米\\n\\t\\t\\t            \\t...</td>\n",
       "      <td>[大兴亦庄]采育镇\\n\\t\\t\\t            \\t\\t            \\...</td>\n",
       "      <td>[大兴天宫院]大兴京开高速念坛出口新源大街与永兴路...\\n\\t\\t\\t          ...</td>\n",
       "      <td>[大兴亦庄]大兴亦庄南海子公园东南约1800米\\n\\t\\t\\t            \\t\\...</td>\n",
       "      <td>[大兴黄村]工业开发区广茂大街\\n\\t\\t\\t            \\t\\t       ...</td>\n",
       "      <td>[大兴亦庄]南海子公园北侧500米\\n\\t\\t\\t            \\t\\t     ...</td>\n",
       "      <td>[大兴天宫院]大兴生物医药基地东配套区北臧村镇，4...\\n\\t\\t\\t          ...</td>\n",
       "      <td>[大兴旧宫]瀛海镇姜场村，南海子公园南侧800米，...\\n\\t\\t\\t          ...</td>\n",
       "    </tr>\n",
       "    <tr>\n",
       "      <td>price</td>\n",
       "      <td>price</td>\n",
       "      <td>\"&gt;均价39800元/㎡</td>\n",
       "      <td>\"&gt;最低6888元/㎡起</td>\n",
       "      <td>\"&gt;均价85511元/㎡</td>\n",
       "      <td>\"&gt;总价600万元/套起</td>\n",
       "      <td>\"&gt;均价76000元/㎡</td>\n",
       "      <td>\"&gt;均价100798元/㎡</td>\n",
       "      <td>\"&gt;总价2300万元/套起</td>\n",
       "      <td>\"&gt;均价68924元/㎡</td>\n",
       "      <td>-txt\"&gt;售价待定</td>\n",
       "      <td>...</td>\n",
       "      <td>-txt\"&gt;售价待定</td>\n",
       "      <td>-txt\"&gt;售价待定</td>\n",
       "      <td>\"&gt;均价22500元/㎡</td>\n",
       "      <td>-txt\"&gt;售价待定</td>\n",
       "      <td>-txt\"&gt;售价待定</td>\n",
       "      <td>-txt\"&gt;售价待定</td>\n",
       "      <td>-txt\"&gt;售价待定</td>\n",
       "      <td>\"&gt;均价22000元/㎡</td>\n",
       "      <td>-txt\"&gt;售价待定</td>\n",
       "      <td>\"&gt;均价17750元/㎡</td>\n",
       "    </tr>\n",
       "    <tr>\n",
       "      <td>price_new</td>\n",
       "      <td>price_new</td>\n",
       "      <td>39800</td>\n",
       "      <td>6888</td>\n",
       "      <td>85511</td>\n",
       "      <td>nan</td>\n",
       "      <td>76000</td>\n",
       "      <td>100798</td>\n",
       "      <td>nan</td>\n",
       "      <td>68924</td>\n",
       "      <td>nan</td>\n",
       "      <td>...</td>\n",
       "      <td>42108</td>\n",
       "      <td>59326</td>\n",
       "      <td>22500</td>\n",
       "      <td>52695</td>\n",
       "      <td>39133</td>\n",
       "      <td>59343</td>\n",
       "      <td>60404</td>\n",
       "      <td>22000</td>\n",
       "      <td>38711</td>\n",
       "      <td>17750</td>\n",
       "    </tr>\n",
       "    <tr>\n",
       "      <td>furnish</td>\n",
       "      <td>furnish</td>\n",
       "      <td>0</td>\n",
       "      <td>0</td>\n",
       "      <td>0</td>\n",
       "      <td>0</td>\n",
       "      <td>0</td>\n",
       "      <td>1</td>\n",
       "      <td>1</td>\n",
       "      <td>1</td>\n",
       "      <td>0</td>\n",
       "      <td>...</td>\n",
       "      <td>0</td>\n",
       "      <td>1</td>\n",
       "      <td>1</td>\n",
       "      <td>0</td>\n",
       "      <td>0</td>\n",
       "      <td>1</td>\n",
       "      <td>1</td>\n",
       "      <td>0</td>\n",
       "      <td>0</td>\n",
       "      <td>0</td>\n",
       "    </tr>\n",
       "    <tr>\n",
       "      <td>volume</td>\n",
       "      <td>volume</td>\n",
       "      <td>0</td>\n",
       "      <td>0</td>\n",
       "      <td>0</td>\n",
       "      <td>1</td>\n",
       "      <td>0</td>\n",
       "      <td>0</td>\n",
       "      <td>0</td>\n",
       "      <td>1</td>\n",
       "      <td>0</td>\n",
       "      <td>...</td>\n",
       "      <td>0</td>\n",
       "      <td>0</td>\n",
       "      <td>0</td>\n",
       "      <td>0</td>\n",
       "      <td>0</td>\n",
       "      <td>0</td>\n",
       "      <td>0</td>\n",
       "      <td>0</td>\n",
       "      <td>0</td>\n",
       "      <td>0</td>\n",
       "    </tr>\n",
       "    <tr>\n",
       "      <td>labels</td>\n",
       "      <td>labels</td>\n",
       "      <td>标准写字楼             ...</td>\n",
       "      <td>住宅                ...</td>\n",
       "      <td>住宅                ...</td>\n",
       "      <td>住宅                ...</td>\n",
       "      <td>住宅                ...</td>\n",
       "      <td>住宅                ...</td>\n",
       "      <td>住宅                ...</td>\n",
       "      <td>住宅                ...</td>\n",
       "      <td>住宅                ...</td>\n",
       "      <td>...</td>\n",
       "      <td>住宅                ...</td>\n",
       "      <td>住宅                ...</td>\n",
       "      <td>住宅                ...</td>\n",
       "      <td>住宅                ...</td>\n",
       "      <td>住宅                ...</td>\n",
       "      <td>住宅                ...</td>\n",
       "      <td>住宅                ...</td>\n",
       "      <td>住宅                ...</td>\n",
       "      <td>住宅                ...</td>\n",
       "      <td>住宅                ...</td>\n",
       "    </tr>\n",
       "    <tr>\n",
       "      <td>subway</td>\n",
       "      <td>subway</td>\n",
       "      <td>3</td>\n",
       "      <td>0</td>\n",
       "      <td>4</td>\n",
       "      <td>1</td>\n",
       "      <td>2</td>\n",
       "      <td>6</td>\n",
       "      <td>0</td>\n",
       "      <td>1</td>\n",
       "      <td>2</td>\n",
       "      <td>...</td>\n",
       "      <td>3</td>\n",
       "      <td>4</td>\n",
       "      <td>2</td>\n",
       "      <td>0</td>\n",
       "      <td>1</td>\n",
       "      <td>0</td>\n",
       "      <td>3</td>\n",
       "      <td>nan</td>\n",
       "      <td>0</td>\n",
       "      <td>2</td>\n",
       "    </tr>\n",
       "    <tr>\n",
       "      <td>bus</td>\n",
       "      <td>bus</td>\n",
       "      <td>25</td>\n",
       "      <td>0</td>\n",
       "      <td>25</td>\n",
       "      <td>20</td>\n",
       "      <td>21</td>\n",
       "      <td>25</td>\n",
       "      <td>20</td>\n",
       "      <td>7</td>\n",
       "      <td>25</td>\n",
       "      <td>...</td>\n",
       "      <td>25</td>\n",
       "      <td>25</td>\n",
       "      <td>25</td>\n",
       "      <td>21</td>\n",
       "      <td>25</td>\n",
       "      <td>25</td>\n",
       "      <td>25</td>\n",
       "      <td>nan</td>\n",
       "      <td>25</td>\n",
       "      <td>23</td>\n",
       "    </tr>\n",
       "    <tr>\n",
       "      <td>trans</td>\n",
       "      <td>trans</td>\n",
       "      <td>2公里内的交通设施                3条地铁、25个公交站</td>\n",
       "      <td>2公里内的交通设施                暂无数据</td>\n",
       "      <td>2公里内的交通设施                4条地铁、25个公交站</td>\n",
       "      <td>2公里内的交通设施                1条地铁、20个公交站</td>\n",
       "      <td>2公里内的交通设施                2条地铁、21个公交站</td>\n",
       "      <td>2公里内的交通设施                6条地铁、25个公交站</td>\n",
       "      <td>2公里内的交通设施                20个公交站</td>\n",
       "      <td>2公里内的交通设施                1条地铁、7个公交站</td>\n",
       "      <td>2公里内的交通设施                2条地铁、25个公交站</td>\n",
       "      <td>...</td>\n",
       "      <td>2公里内的交通设施                3条地铁、25个公交站</td>\n",
       "      <td>2公里内的交通设施                4条地铁、25个公交站</td>\n",
       "      <td>2公里内的交通设施                2条地铁、25个公交站</td>\n",
       "      <td>2公里内的交通设施                21个公交站</td>\n",
       "      <td>2公里内的交通设施                1条地铁、25个公交站</td>\n",
       "      <td>2公里内的交通设施                25个公交站</td>\n",
       "      <td>2公里内的交通设施                3条地铁、25个公交站</td>\n",
       "      <td></td>\n",
       "      <td>2公里内的交通设施                25个公交站</td>\n",
       "      <td>2公里内的交通设施                2条地铁、23个公交站</td>\n",
       "    </tr>\n",
       "    <tr>\n",
       "      <td>shopping</td>\n",
       "      <td>shopping</td>\n",
       "      <td>25</td>\n",
       "      <td>0</td>\n",
       "      <td>25</td>\n",
       "      <td>25</td>\n",
       "      <td>25</td>\n",
       "      <td>25</td>\n",
       "      <td>25</td>\n",
       "      <td>25</td>\n",
       "      <td>25</td>\n",
       "      <td>...</td>\n",
       "      <td>25</td>\n",
       "      <td>25</td>\n",
       "      <td>25</td>\n",
       "      <td>25</td>\n",
       "      <td>25</td>\n",
       "      <td>25</td>\n",
       "      <td>25</td>\n",
       "      <td>25</td>\n",
       "      <td>25</td>\n",
       "      <td>25</td>\n",
       "    </tr>\n",
       "    <tr>\n",
       "      <td>bank</td>\n",
       "      <td>bank</td>\n",
       "      <td>25</td>\n",
       "      <td>0</td>\n",
       "      <td>25</td>\n",
       "      <td>5</td>\n",
       "      <td>16</td>\n",
       "      <td>25</td>\n",
       "      <td>15</td>\n",
       "      <td>3</td>\n",
       "      <td>25</td>\n",
       "      <td>...</td>\n",
       "      <td>25</td>\n",
       "      <td>25</td>\n",
       "      <td>9</td>\n",
       "      <td>8</td>\n",
       "      <td>11</td>\n",
       "      <td>13</td>\n",
       "      <td>25</td>\n",
       "      <td>6</td>\n",
       "      <td>7</td>\n",
       "      <td>2</td>\n",
       "    </tr>\n",
       "    <tr>\n",
       "      <td>food</td>\n",
       "      <td>food</td>\n",
       "      <td>25</td>\n",
       "      <td>0</td>\n",
       "      <td>25</td>\n",
       "      <td>25</td>\n",
       "      <td>25</td>\n",
       "      <td>25</td>\n",
       "      <td>25</td>\n",
       "      <td>25</td>\n",
       "      <td>25</td>\n",
       "      <td>...</td>\n",
       "      <td>25</td>\n",
       "      <td>25</td>\n",
       "      <td>25</td>\n",
       "      <td>25</td>\n",
       "      <td>25</td>\n",
       "      <td>25</td>\n",
       "      <td>25</td>\n",
       "      <td>25</td>\n",
       "      <td>25</td>\n",
       "      <td>25</td>\n",
       "    </tr>\n",
       "    <tr>\n",
       "      <td>business</td>\n",
       "      <td>business</td>\n",
       "      <td>2公里内的商业设施                购物25处、银行25处、餐饮25处</td>\n",
       "      <td>2公里内的商业设施                暂无数据</td>\n",
       "      <td>2公里内的商业设施                购物25处、银行25处、餐饮25处</td>\n",
       "      <td>2公里内的商业设施                购物25处、银行5处、餐饮25处</td>\n",
       "      <td>2公里内的商业设施                购物25处、银行16处、餐饮25处</td>\n",
       "      <td>2公里内的商业设施                购物25处、银行25处、餐饮25处</td>\n",
       "      <td>2公里内的商业设施                购物25处、银行15处、餐饮25处</td>\n",
       "      <td>2公里内的商业设施                购物25处、银行3处、餐饮25处</td>\n",
       "      <td>2公里内的商业设施                购物25处、银行25处、餐饮25处</td>\n",
       "      <td>...</td>\n",
       "      <td>2公里内的商业设施                购物25处、银行25处、餐饮25处</td>\n",
       "      <td>2公里内的商业设施                购物25处、银行25处、餐饮25处</td>\n",
       "      <td>2公里内的商业设施                购物25处、银行9处、餐饮25处</td>\n",
       "      <td>2公里内的商业设施                购物25处、银行8处、餐饮25处</td>\n",
       "      <td>2公里内的商业设施                购物25处、银行11处、餐饮25处</td>\n",
       "      <td>2公里内的商业设施                购物25处、银行13处、餐饮25处</td>\n",
       "      <td>2公里内的商业设施                购物25处、银行25处、餐饮25处</td>\n",
       "      <td>2公里内的商业设施                购物25处、银行6处、餐饮25处</td>\n",
       "      <td>2公里内的商业设施                购物25处、银行7处、餐饮25处</td>\n",
       "      <td>2公里内的商业设施                购物25处、银行2处、餐饮25处</td>\n",
       "    </tr>\n",
       "    <tr>\n",
       "      <td>hospitals</td>\n",
       "      <td>hospitals</td>\n",
       "      <td>5</td>\n",
       "      <td>0</td>\n",
       "      <td>19</td>\n",
       "      <td>2</td>\n",
       "      <td>15</td>\n",
       "      <td>25</td>\n",
       "      <td>nan</td>\n",
       "      <td>2</td>\n",
       "      <td>25</td>\n",
       "      <td>...</td>\n",
       "      <td>25</td>\n",
       "      <td>25</td>\n",
       "      <td>2</td>\n",
       "      <td>2</td>\n",
       "      <td>0</td>\n",
       "      <td>4</td>\n",
       "      <td>7</td>\n",
       "      <td>2</td>\n",
       "      <td>0</td>\n",
       "      <td>2</td>\n",
       "    </tr>\n",
       "    <tr>\n",
       "      <td>hos</td>\n",
       "      <td>hos</td>\n",
       "      <td>2公里内的医院设施                医院5处</td>\n",
       "      <td>2公里内的医院设施                暂无数据</td>\n",
       "      <td>2公里内的医院设施                医院19处</td>\n",
       "      <td>2公里内的医院设施                医院2处</td>\n",
       "      <td>2公里内的医院设施                医院15处</td>\n",
       "      <td>2公里内的医院设施                医院25处</td>\n",
       "      <td></td>\n",
       "      <td>2公里内的医院设施                医院2处</td>\n",
       "      <td>2公里内的医院设施                医院25处</td>\n",
       "      <td>...</td>\n",
       "      <td>2公里内的医院设施                医院25处</td>\n",
       "      <td>2公里内的医院设施                医院25处</td>\n",
       "      <td>2公里内的医院设施                医院2处</td>\n",
       "      <td>2公里内的医院设施                医院2处</td>\n",
       "      <td>2公里内的医院设施                暂无数据</td>\n",
       "      <td>2公里内的医院设施                医院4处</td>\n",
       "      <td>2公里内的医院设施                医院7处</td>\n",
       "      <td>2公里内的医院设施                医院2处</td>\n",
       "      <td>2公里内的医院设施                暂无数据</td>\n",
       "      <td>2公里内的医院设施                医院2处</td>\n",
       "    </tr>\n",
       "    <tr>\n",
       "      <td>schools</td>\n",
       "      <td>schools</td>\n",
       "      <td>0</td>\n",
       "      <td>0</td>\n",
       "      <td>25</td>\n",
       "      <td>10</td>\n",
       "      <td>25</td>\n",
       "      <td>25</td>\n",
       "      <td>23</td>\n",
       "      <td>2</td>\n",
       "      <td>25</td>\n",
       "      <td>...</td>\n",
       "      <td>25</td>\n",
       "      <td>25</td>\n",
       "      <td>25</td>\n",
       "      <td>6</td>\n",
       "      <td>25</td>\n",
       "      <td>12</td>\n",
       "      <td>25</td>\n",
       "      <td>11</td>\n",
       "      <td>13</td>\n",
       "      <td>4</td>\n",
       "    </tr>\n",
       "    <tr>\n",
       "      <td>school</td>\n",
       "      <td>school</td>\n",
       "      <td>2公里内的交通设施                3条地铁、25个公交站</td>\n",
       "      <td>2公里内的教育设施                暂无数据</td>\n",
       "      <td>2公里内的教育设施                学校25处</td>\n",
       "      <td>2公里内的教育设施                学校10处</td>\n",
       "      <td>2公里内的教育设施                学校25处</td>\n",
       "      <td>2公里内的教育设施                学校25处</td>\n",
       "      <td>2公里内的教育设施                学校23处</td>\n",
       "      <td>2公里内的教育设施                学校2处</td>\n",
       "      <td>2公里内的教育设施                学校25处</td>\n",
       "      <td>...</td>\n",
       "      <td>2公里内的教育设施                学校25处</td>\n",
       "      <td>2公里内的教育设施                学校25处</td>\n",
       "      <td>2公里内的教育设施                学校25处</td>\n",
       "      <td>2公里内的教育设施                学校6处</td>\n",
       "      <td>2公里内的教育设施                学校25处</td>\n",
       "      <td>2公里内的教育设施                学校12处</td>\n",
       "      <td>2公里内的教育设施                学校25处</td>\n",
       "      <td>2公里内的教育设施                学校11处</td>\n",
       "      <td>2公里内的教育设施                学校13处</td>\n",
       "      <td>2公里内的教育设施                学校4处</td>\n",
       "    </tr>\n",
       "  </tbody>\n",
       "</table>\n",
       "<p>20 rows × 380 columns</p>\n",
       "</div>"
      ],
      "text/plain": [
       "               index                                       林肯时代\\n\\t\\t\\t  \\\n",
       "index                                                                     \n",
       "district    district                                           chaoyang   \n",
       "link            link      https://bj.fang.anjuke.com/loupan/453476.html   \n",
       "name            name                                               林肯时代   \n",
       "address      address  [大兴亦庄]荣京西街（荣京东街地铁站西600米）\\n\\t\\t\\t            \\t...   \n",
       "price          price                                       \">均价39800元/㎡   \n",
       "price_new  price_new                                              39800   \n",
       "furnish      furnish                                                  0   \n",
       "volume        volume                                                  0   \n",
       "labels        labels                              标准写字楼             ...   \n",
       "subway        subway                                                  3   \n",
       "bus              bus                                                 25   \n",
       "trans          trans               2公里内的交通设施                3条地铁、25个公交站   \n",
       "shopping    shopping                                                 25   \n",
       "bank            bank                                                 25   \n",
       "food            food                                                 25   \n",
       "business    business         2公里内的商业设施                购物25处、银行25处、餐饮25处   \n",
       "hospitals  hospitals                                                  5   \n",
       "hos              hos                      2公里内的医院设施                医院5处   \n",
       "schools      schools                                                  0   \n",
       "school        school               2公里内的交通设施                3条地铁、25个公交站   \n",
       "\n",
       "                                              恒大花溪小镇\\n\\t\\t\\t  \\\n",
       "index                                                          \n",
       "district                                            chaoyang   \n",
       "link           https://bj.fang.anjuke.com/loupan/417696.html   \n",
       "name                                                  恒大花溪小镇   \n",
       "address    [北京周边其它]宝坻京津生态新城（津蓟高速九园线出口...\\n\\t\\t\\t         ...   \n",
       "price                                           \">最低6888元/㎡起   \n",
       "price_new                                               6888   \n",
       "furnish                                                    0   \n",
       "volume                                                     0   \n",
       "labels                                 住宅                ...   \n",
       "subway                                                     0   \n",
       "bus                                                        0   \n",
       "trans                          2公里内的交通设施                暂无数据   \n",
       "shopping                                                   0   \n",
       "bank                                                       0   \n",
       "food                                                       0   \n",
       "business                       2公里内的商业设施                暂无数据   \n",
       "hospitals                                                  0   \n",
       "hos                            2公里内的医院设施                暂无数据   \n",
       "schools                                                    0   \n",
       "school                         2公里内的教育设施                暂无数据   \n",
       "\n",
       "                                                湖光壹号\\n\\t\\t\\t  \\\n",
       "index                                                          \n",
       "district                                            chaoyang   \n",
       "link       https://bj.fang.anjuke.com/loupan/416443.html?...   \n",
       "name                                                    湖光壹号   \n",
       "address    [朝阳望京]湖光中街\\n\\t\\t\\t            \\t\\t            ...   \n",
       "price                                           \">均价85511元/㎡   \n",
       "price_new                                              85511   \n",
       "furnish                                                    0   \n",
       "volume                                                     0   \n",
       "labels                                 住宅                ...   \n",
       "subway                                                     4   \n",
       "bus                                                       25   \n",
       "trans                   2公里内的交通设施                4条地铁、25个公交站   \n",
       "shopping                                                  25   \n",
       "bank                                                      25   \n",
       "food                                                      25   \n",
       "business          2公里内的商业设施                购物25处、银行25处、餐饮25处   \n",
       "hospitals                                                 19   \n",
       "hos                           2公里内的医院设施                医院19处   \n",
       "schools                                                   25   \n",
       "school                        2公里内的教育设施                学校25处   \n",
       "\n",
       "                                                 瑞悦府\\n\\t\\t\\t  \\\n",
       "index                                                          \n",
       "district                                            chaoyang   \n",
       "link       https://bj.fang.anjuke.com/loupan/435260.html?...   \n",
       "name                                                     瑞悦府   \n",
       "address    [朝阳孙河]北京市朝阳区黄康路北侧 孙河地铁站西...\\n\\t\\t\\t           ...   \n",
       "price                                           \">总价600万元/套起   \n",
       "price_new                                                nan   \n",
       "furnish                                                    0   \n",
       "volume                                                     1   \n",
       "labels                                 住宅                ...   \n",
       "subway                                                     1   \n",
       "bus                                                       20   \n",
       "trans                   2公里内的交通设施                1条地铁、20个公交站   \n",
       "shopping                                                  25   \n",
       "bank                                                       5   \n",
       "food                                                      25   \n",
       "business           2公里内的商业设施                购物25处、银行5处、餐饮25处   \n",
       "hospitals                                                  2   \n",
       "hos                            2公里内的医院设施                医院2处   \n",
       "schools                                                   10   \n",
       "school                        2公里内的教育设施                学校10处   \n",
       "\n",
       "                                           北京城建•朝青知筑\\n\\t\\t\\t  \\\n",
       "index                                                          \n",
       "district                                            chaoyang   \n",
       "link       https://bj.fang.anjuke.com/loupan/439965.html?...   \n",
       "name                                               北京城建•朝青知筑   \n",
       "address    [朝阳朝青]地铁6号线褡裢坡站B口东行200米\\n\\t\\t\\t            \\t\\...   \n",
       "price                                           \">均价76000元/㎡   \n",
       "price_new                                              76000   \n",
       "furnish                                                    0   \n",
       "volume                                                     0   \n",
       "labels                                 住宅                ...   \n",
       "subway                                                     2   \n",
       "bus                                                       21   \n",
       "trans                   2公里内的交通设施                2条地铁、21个公交站   \n",
       "shopping                                                  25   \n",
       "bank                                                      16   \n",
       "food                                                      25   \n",
       "business          2公里内的商业设施                购物25处、银行16处、餐饮25处   \n",
       "hospitals                                                 15   \n",
       "hos                           2公里内的医院设施                医院15处   \n",
       "schools                                                   25   \n",
       "school                        2公里内的教育设施                学校25处   \n",
       "\n",
       "                                              中海枫丹公馆\\n\\t\\t\\t  \\\n",
       "index                                                          \n",
       "district                                            chaoyang   \n",
       "link       https://bj.fang.anjuke.com/loupan/455460.html?...   \n",
       "name                                                  中海枫丹公馆   \n",
       "address    [朝阳其他]通惠河北路69号院（朝阳建国门桥东南1...\\n\\t\\t\\t          ...   \n",
       "price                                          \">均价100798元/㎡   \n",
       "price_new                                             100798   \n",
       "furnish                                                    1   \n",
       "volume                                                     0   \n",
       "labels                                 住宅                ...   \n",
       "subway                                                     6   \n",
       "bus                                                       25   \n",
       "trans                   2公里内的交通设施                6条地铁、25个公交站   \n",
       "shopping                                                  25   \n",
       "bank                                                      25   \n",
       "food                                                      25   \n",
       "business          2公里内的商业设施                购物25处、银行25处、餐饮25处   \n",
       "hospitals                                                 25   \n",
       "hos                           2公里内的医院设施                医院25处   \n",
       "schools                                                   25   \n",
       "school                        2公里内的教育设施                学校25处   \n",
       "\n",
       "                                              北京恒大华府\\n\\t\\t\\t  \\\n",
       "index                                                          \n",
       "district                                            chaoyang   \n",
       "link       https://bj.fang.anjuke.com/loupan/400628.html?...   \n",
       "name                                                  北京恒大华府   \n",
       "address    [朝阳东坝]东五环东坝七棵树以北、坝河以南\\n\\t\\t\\t            \\t\\t ...   \n",
       "price                                          \">总价2300万元/套起   \n",
       "price_new                                                nan   \n",
       "furnish                                                    1   \n",
       "volume                                                     0   \n",
       "labels                                 住宅                ...   \n",
       "subway                                                     0   \n",
       "bus                                                       20   \n",
       "trans                        2公里内的交通设施                20个公交站   \n",
       "shopping                                                  25   \n",
       "bank                                                      15   \n",
       "food                                                      25   \n",
       "business          2公里内的商业设施                购物25处、银行15处、餐饮25处   \n",
       "hospitals                                                nan   \n",
       "hos                                                            \n",
       "schools                                                   23   \n",
       "school                        2公里内的教育设施                学校23处   \n",
       "\n",
       "                                                天瑞宸章\\n\\t\\t\\t  \\\n",
       "index                                                          \n",
       "district                                            chaoyang   \n",
       "link       https://bj.fang.anjuke.com/loupan/445099.html?...   \n",
       "name                                                    天瑞宸章   \n",
       "address    [朝阳孙河]京密路与顺黄路交汇处西南800米\\n\\t\\t\\t            \\t\\t...   \n",
       "price                                           \">均价68924元/㎡   \n",
       "price_new                                              68924   \n",
       "furnish                                                    1   \n",
       "volume                                                     1   \n",
       "labels                                 住宅                ...   \n",
       "subway                                                     1   \n",
       "bus                                                        7   \n",
       "trans                    2公里内的交通设施                1条地铁、7个公交站   \n",
       "shopping                                                  25   \n",
       "bank                                                       3   \n",
       "food                                                      25   \n",
       "business           2公里内的商业设施                购物25处、银行3处、餐饮25处   \n",
       "hospitals                                                  2   \n",
       "hos                            2公里内的医院设施                医院2处   \n",
       "schools                                                    2   \n",
       "school                         2公里内的教育设施                学校2处   \n",
       "\n",
       "                                                丽都悦府\\n\\t\\t\\t  ...  \\\n",
       "index                                                         ...   \n",
       "district                                            chaoyang  ...   \n",
       "link       https://bj.fang.anjuke.com/loupan/437085.html?...  ...   \n",
       "name                                                    丽都悦府  ...   \n",
       "address    [朝阳望京]东四环，霄云桥北500米\\n\\t\\t\\t            \\t\\t    ...  ...   \n",
       "price                                             -txt\">售价待定  ...   \n",
       "price_new                                                nan  ...   \n",
       "furnish                                                    0  ...   \n",
       "volume                                                     0  ...   \n",
       "labels                                 住宅                ...  ...   \n",
       "subway                                                     2  ...   \n",
       "bus                                                       25  ...   \n",
       "trans                   2公里内的交通设施                2条地铁、25个公交站  ...   \n",
       "shopping                                                  25  ...   \n",
       "bank                                                      25  ...   \n",
       "food                                                      25  ...   \n",
       "business          2公里内的商业设施                购物25处、银行25处、餐饮25处  ...   \n",
       "hospitals                                                 25  ...   \n",
       "hos                           2公里内的医院设施                医院25处  ...   \n",
       "schools                                                   25  ...   \n",
       "school                        2公里内的教育设施                学校25处  ...   \n",
       "\n",
       "                                                蓝桥驿苑\\n\\t\\t\\t  \\\n",
       "index                                                          \n",
       "district                                              daxing   \n",
       "link       https://bj.fang.anjuke.com/loupan/249258.html?...   \n",
       "name                                                    蓝桥驿苑   \n",
       "address    [大兴黄村]孙村海鑫路北\\n\\t\\t\\t            \\t\\t          ...   \n",
       "price                                             -txt\">售价待定   \n",
       "price_new                                              42108   \n",
       "furnish                                                    0   \n",
       "volume                                                     0   \n",
       "labels                                 住宅                ...   \n",
       "subway                                                     3   \n",
       "bus                                                       25   \n",
       "trans                   2公里内的交通设施                3条地铁、25个公交站   \n",
       "shopping                                                  25   \n",
       "bank                                                      25   \n",
       "food                                                      25   \n",
       "business          2公里内的商业设施                购物25处、银行25处、餐饮25处   \n",
       "hospitals                                                 25   \n",
       "hos                           2公里内的医院设施                医院25处   \n",
       "schools                                                   25   \n",
       "school                        2公里内的教育设施                学校25处   \n",
       "\n",
       "                                               天同11号\\n\\t\\t\\t  \\\n",
       "index                                                          \n",
       "district                                              daxing   \n",
       "link       https://bj.fang.anjuke.com/loupan/252025.html?...   \n",
       "name                                                   天同11号   \n",
       "address    [大兴黄村]大兴地铁4号大兴线黄村西大街站向西20...\\n\\t\\t\\t          ...   \n",
       "price                                             -txt\">售价待定   \n",
       "price_new                                              59326   \n",
       "furnish                                                    1   \n",
       "volume                                                     0   \n",
       "labels                                 住宅                ...   \n",
       "subway                                                     4   \n",
       "bus                                                       25   \n",
       "trans                   2公里内的交通设施                4条地铁、25个公交站   \n",
       "shopping                                                  25   \n",
       "bank                                                      25   \n",
       "food                                                      25   \n",
       "business          2公里内的商业设施                购物25处、银行25处、餐饮25处   \n",
       "hospitals                                                 25   \n",
       "hos                           2公里内的医院设施                医院25处   \n",
       "schools                                                   25   \n",
       "school                        2公里内的教育设施                学校25处   \n",
       "\n",
       "                                               金融街融汇\\n\\t\\t\\t  \\\n",
       "index                                                          \n",
       "district                                              daxing   \n",
       "link       https://bj.fang.anjuke.com/loupan/240399.html?...   \n",
       "name                                                   金融街融汇   \n",
       "address    [大兴天宫院]新城核心区地铁天宫院站北侧300米\\n\\t\\t\\t            \\t...   \n",
       "price                                           \">均价22500元/㎡   \n",
       "price_new                                              22500   \n",
       "furnish                                                    1   \n",
       "volume                                                     0   \n",
       "labels                                 住宅                ...   \n",
       "subway                                                     2   \n",
       "bus                                                       25   \n",
       "trans                   2公里内的交通设施                2条地铁、25个公交站   \n",
       "shopping                                                  25   \n",
       "bank                                                       9   \n",
       "food                                                      25   \n",
       "business           2公里内的商业设施                购物25处、银行9处、餐饮25处   \n",
       "hospitals                                                  2   \n",
       "hos                            2公里内的医院设施                医院2处   \n",
       "schools                                                   25   \n",
       "school                        2公里内的教育设施                学校25处   \n",
       "\n",
       "                                         当代采育满庭春MOMA\\n\\t\\t\\t  \\\n",
       "index                                                          \n",
       "district                                              daxing   \n",
       "link       https://bj.fang.anjuke.com/loupan/250803.html?...   \n",
       "name                                             当代采育满庭春MOMA   \n",
       "address    [大兴亦庄]采育镇\\n\\t\\t\\t            \\t\\t            \\...   \n",
       "price                                             -txt\">售价待定   \n",
       "price_new                                              52695   \n",
       "furnish                                                    0   \n",
       "volume                                                     0   \n",
       "labels                                 住宅                ...   \n",
       "subway                                                     0   \n",
       "bus                                                       21   \n",
       "trans                        2公里内的交通设施                21个公交站   \n",
       "shopping                                                  25   \n",
       "bank                                                       8   \n",
       "food                                                      25   \n",
       "business           2公里内的商业设施                购物25处、银行8处、餐饮25处   \n",
       "hospitals                                                  2   \n",
       "hos                            2公里内的医院设施                医院2处   \n",
       "schools                                                    6   \n",
       "school                         2公里内的教育设施                学校6处   \n",
       "\n",
       "                                              北京明发广场\\n\\t\\t\\t  \\\n",
       "index                                                          \n",
       "district                                              daxing   \n",
       "link       https://bj.fang.anjuke.com/loupan/247986.html?...   \n",
       "name                                                  北京明发广场   \n",
       "address    [大兴天宫院]大兴京开高速念坛出口新源大街与永兴路...\\n\\t\\t\\t          ...   \n",
       "price                                             -txt\">售价待定   \n",
       "price_new                                              39133   \n",
       "furnish                                                    0   \n",
       "volume                                                     0   \n",
       "labels                                 住宅                ...   \n",
       "subway                                                     1   \n",
       "bus                                                       25   \n",
       "trans                   2公里内的交通设施                1条地铁、25个公交站   \n",
       "shopping                                                  25   \n",
       "bank                                                      11   \n",
       "food                                                      25   \n",
       "business          2公里内的商业设施                购物25处、银行11处、餐饮25处   \n",
       "hospitals                                                  0   \n",
       "hos                            2公里内的医院设施                暂无数据   \n",
       "schools                                                   25   \n",
       "school                        2公里内的教育设施                学校25处   \n",
       "\n",
       "                                            金第万科金域东郡\\n\\t\\t\\t  \\\n",
       "index                                                          \n",
       "district                                              daxing   \n",
       "link       https://bj.fang.anjuke.com/loupan/248329.html?...   \n",
       "name                                                金第万科金域东郡   \n",
       "address    [大兴亦庄]大兴亦庄南海子公园东南约1800米\\n\\t\\t\\t            \\t\\...   \n",
       "price                                             -txt\">售价待定   \n",
       "price_new                                              59343   \n",
       "furnish                                                    1   \n",
       "volume                                                     0   \n",
       "labels                                 住宅                ...   \n",
       "subway                                                     0   \n",
       "bus                                                       25   \n",
       "trans                        2公里内的交通设施                25个公交站   \n",
       "shopping                                                  25   \n",
       "bank                                                      13   \n",
       "food                                                      25   \n",
       "business          2公里内的商业设施                购物25处、银行13处、餐饮25处   \n",
       "hospitals                                                  4   \n",
       "hos                            2公里内的医院设施                医院4处   \n",
       "schools                                                   12   \n",
       "school                        2公里内的教育设施                学校12处   \n",
       "\n",
       "                                              cago寓所\\n\\t\\t\\t  \\\n",
       "index                                                          \n",
       "district                                              daxing   \n",
       "link       https://bj.fang.anjuke.com/loupan/237798.html?...   \n",
       "name                                                  cago寓所   \n",
       "address    [大兴黄村]工业开发区广茂大街\\n\\t\\t\\t            \\t\\t       ...   \n",
       "price                                             -txt\">售价待定   \n",
       "price_new                                              60404   \n",
       "furnish                                                    1   \n",
       "volume                                                     0   \n",
       "labels                                 住宅                ...   \n",
       "subway                                                     3   \n",
       "bus                                                       25   \n",
       "trans                   2公里内的交通设施                3条地铁、25个公交站   \n",
       "shopping                                                  25   \n",
       "bank                                                      25   \n",
       "food                                                      25   \n",
       "business          2公里内的商业设施                购物25处、银行25处、餐饮25处   \n",
       "hospitals                                                  7   \n",
       "hos                            2公里内的医院设施                医院7处   \n",
       "schools                                                   25   \n",
       "school                        2公里内的教育设施                学校25处   \n",
       "\n",
       "                                            首开住总·国悦居\\n\\t\\t\\t  \\\n",
       "index                                                          \n",
       "district                                              daxing   \n",
       "link       https://bj.fang.anjuke.com/loupan/264033.html?...   \n",
       "name                                                首开住总·国悦居   \n",
       "address    [大兴亦庄]南海子公园北侧500米\\n\\t\\t\\t            \\t\\t     ...   \n",
       "price                                           \">均价22000元/㎡   \n",
       "price_new                                              22000   \n",
       "furnish                                                    0   \n",
       "volume                                                     0   \n",
       "labels                                 住宅                ...   \n",
       "subway                                                   nan   \n",
       "bus                                                      nan   \n",
       "trans                                                          \n",
       "shopping                                                  25   \n",
       "bank                                                       6   \n",
       "food                                                      25   \n",
       "business           2公里内的商业设施                购物25处、银行6处、餐饮25处   \n",
       "hospitals                                                  2   \n",
       "hos                            2公里内的医院设施                医院2处   \n",
       "schools                                                   11   \n",
       "school                        2公里内的教育设施                学校11处   \n",
       "\n",
       "                                             北京金科天籁城\\n\\t\\t\\t  \\\n",
       "index                                                          \n",
       "district                                              daxing   \n",
       "link       https://bj.fang.anjuke.com/loupan/264003.html?...   \n",
       "name                                                 北京金科天籁城   \n",
       "address    [大兴天宫院]大兴生物医药基地东配套区北臧村镇，4...\\n\\t\\t\\t          ...   \n",
       "price                                             -txt\">售价待定   \n",
       "price_new                                              38711   \n",
       "furnish                                                    0   \n",
       "volume                                                     0   \n",
       "labels                                 住宅                ...   \n",
       "subway                                                     0   \n",
       "bus                                                       25   \n",
       "trans                        2公里内的交通设施                25个公交站   \n",
       "shopping                                                  25   \n",
       "bank                                                       7   \n",
       "food                                                      25   \n",
       "business           2公里内的商业设施                购物25处、银行7处、餐饮25处   \n",
       "hospitals                                                  0   \n",
       "hos                            2公里内的医院设施                暂无数据   \n",
       "schools                                                   13   \n",
       "school                        2公里内的教育设施                学校13处   \n",
       "\n",
       "                                               旭辉汇璟园\\n\\t\\t\\t  \n",
       "index                                                         \n",
       "district                                              daxing  \n",
       "link       https://bj.fang.anjuke.com/loupan/412102.html?...  \n",
       "name                                                   旭辉汇璟园  \n",
       "address    [大兴旧宫]瀛海镇姜场村，南海子公园南侧800米，...\\n\\t\\t\\t          ...  \n",
       "price                                           \">均价17750元/㎡  \n",
       "price_new                                              17750  \n",
       "furnish                                                    0  \n",
       "volume                                                     0  \n",
       "labels                                 住宅                ...  \n",
       "subway                                                     2  \n",
       "bus                                                       23  \n",
       "trans                   2公里内的交通设施                2条地铁、23个公交站  \n",
       "shopping                                                  25  \n",
       "bank                                                       2  \n",
       "food                                                      25  \n",
       "business           2公里内的商业设施                购物25处、银行2处、餐饮25处  \n",
       "hospitals                                                  2  \n",
       "hos                            2公里内的医院设施                医院2处  \n",
       "schools                                                    4  \n",
       "school                         2公里内的教育设施                学校4处  \n",
       "\n",
       "[20 rows x 380 columns]"
      ]
     },
     "execution_count": 273,
     "metadata": {},
     "output_type": "execute_result"
    }
   ],
   "source": [
    "excel2"
   ]
  },
  {
   "cell_type": "markdown",
   "metadata": {},
   "source": [
    "# preparation for linear regression"
   ]
  },
  {
   "cell_type": "code",
   "execution_count": 278,
   "metadata": {},
   "outputs": [
    {
     "data": {
      "text/plain": [
       "Index(['district', 'link', 'name', 'address', 'price', 'price_new', 'furnish',\n",
       "       'volume', 'labels', 'subway', 'bus', 'trans', 'shopping', 'bank',\n",
       "       'food', 'business', 'hospitals', 'hos', 'schools', 'school'],\n",
       "      dtype='object', name='index')"
      ]
     },
     "execution_count": 278,
     "metadata": {},
     "output_type": "execute_result"
    }
   ],
   "source": [
    "data2 = excel2.T\n",
    "data2.columns"
   ]
  },
  {
   "cell_type": "code",
   "execution_count": 279,
   "metadata": {},
   "outputs": [],
   "source": [
    "data2 = data2.loc[:,['district', 'price_new', 'furnish',\n",
    "       'volume', 'subway', 'bus', 'shopping', 'bank',\n",
    "       'food', 'hospitals', 'schools']]"
   ]
  },
  {
   "cell_type": "code",
   "execution_count": 282,
   "metadata": {},
   "outputs": [],
   "source": [
    "data2.drop(data2[data2['price_new'] == 'nan'].index, inplace=True)"
   ]
  },
  {
   "cell_type": "code",
   "execution_count": 287,
   "metadata": {},
   "outputs": [],
   "source": [
    "data2.drop(['index'], inplace=True)"
   ]
  },
  {
   "cell_type": "code",
   "execution_count": 291,
   "metadata": {},
   "outputs": [],
   "source": [
    "data2.to_excel('house-info-have price.xlsx')"
   ]
  },
  {
   "cell_type": "code",
   "execution_count": 294,
   "metadata": {},
   "outputs": [],
   "source": [
    "data2 = pd.read_excel('house-info-have price.xlsx', index_col=0)"
   ]
  },
  {
   "cell_type": "code",
   "execution_count": 298,
   "metadata": {},
   "outputs": [],
   "source": [
    "data2 = data2.fillna(0)"
   ]
  },
  {
   "cell_type": "code",
   "execution_count": 299,
   "metadata": {},
   "outputs": [],
   "source": [
    "data2.to_excel('house-info-fillna.xlsx')"
   ]
  },
  {
   "cell_type": "markdown",
   "metadata": {},
   "source": [
    "# Other Attempts"
   ]
  },
  {
   "cell_type": "markdown",
   "metadata": {},
   "source": [
    "### Use API proxies to prevent crawlers from being banned"
   ]
  },
  {
   "cell_type": "markdown",
   "metadata": {},
   "source": [
    "- house prices"
   ]
  },
  {
   "cell_type": "code",
   "execution_count": 23,
   "metadata": {},
   "outputs": [],
   "source": [
    "districts = ['chaoyang', 'fengtai', 'haidian', 'tongzhou',\n",
    "            'fangshan', 'shunyi', 'changping', 'daxing', 'miyun']\n",
    "for district in districts:\n",
    "    api = 'http://api.xdaili.cn/xdaili-api//greatRecharge/getGreatIp?spiderId=7152e27c30884783a5614375c6102b9a&orderno=YZ201911266834bj7dj5&returnType=1&count=1'\n",
    "    proxy = requests.get(api).text\n",
    "    browser = webdriver.Chrome()\n",
    "    \n",
    "    break"
   ]
  },
  {
   "cell_type": "code",
   "execution_count": 28,
   "metadata": {
    "collapsed": true
   },
   "outputs": [
    {
     "data": {
      "text/plain": [
       "['220.162.146.42:44919',\n",
       " '125.123.124.226:42520',\n",
       " '222.85.39.34:35981',\n",
       " '36.57.71.4:37328',\n",
       " '222.79.228.120:48599',\n",
       " '120.41.115.11:39401',\n",
       " '113.128.26.112:42325',\n",
       " '49.85.238.7:39513',\n",
       " '144.0.91.150:45142',\n",
       " '171.12.166.166:48532',\n",
       " '']"
      ]
     },
     "execution_count": 28,
     "metadata": {},
     "output_type": "execute_result"
    }
   ],
   "source": [
    "api = 'http://api.xdaili.cn/xdaili-api//greatRecharge/getGreatIp?spiderId=7152e27c30884783a5614375c6102b9a&orderno=YZ201911266834bj7dj5&returnType=1&count=10'\n",
    "proxys = requests.get(api).text\n",
    "proxys = proxys.split('\\r')\n",
    "for i, proxy in enumerate(proxys):\n",
    "    proxys[i] = proxy.strip()\n",
    "del proxys[-1]"
   ]
  },
  {
   "cell_type": "code",
   "execution_count": 96,
   "metadata": {},
   "outputs": [],
   "source": [
    "excel = pd.DataFrame(index=['district', 'link', 'name', 'address', 'price'])"
   ]
  },
  {
   "cell_type": "code",
   "execution_count": null,
   "metadata": {},
   "outputs": [],
   "source": [
    "browser = webdriver.Chrome()\n",
    "url = 'https://bj.fang.anjuke.com/loupan/chaoyang/w1/'\n",
    "url2 = 'https://bj.fang.anjuke.com/loupan/chaoyang/p2_w1/'\n",
    "browser.get(url2)\n",
    "data = browser.page_source\n",
    "data"
   ]
  },
  {
   "cell_type": "code",
   "execution_count": 106,
   "metadata": {},
   "outputs": [],
   "source": [
    "p_info = '<div class=\"key-list imglazyload\">(.*?)<div class=\"list-page\">'\n",
    "infos = re.findall(p_info, data, re.S)"
   ]
  },
  {
   "cell_type": "code",
   "execution_count": 109,
   "metadata": {},
   "outputs": [],
   "source": [
    "houses = infos[0].split('<!-- 2017/07/27 -->')"
   ]
  },
  {
   "cell_type": "code",
   "execution_count": 127,
   "metadata": {},
   "outputs": [
    {
     "data": {
      "text/plain": [
       "'121.232.165.247:30636'"
      ]
     },
     "execution_count": 127,
     "metadata": {},
     "output_type": "execute_result"
    }
   ],
   "source": [
    "api = 'http://api.xdaili.cn/xdaili-api//greatRecharge/getGreatIp?spiderId=7152e27c30884783a5614375c6102b9a&orderno=YZ201911266834bj7dj5&returnType=1&count=1'\n",
    "proxy = requests.get(api).text\n",
    "proxy.strip()"
   ]
  }
 ],
 "metadata": {
  "kernelspec": {
   "display_name": "Python 3",
   "language": "python",
   "name": "python3"
  },
  "language_info": {
   "codemirror_mode": {
    "name": "ipython",
    "version": 3
   },
   "file_extension": ".py",
   "mimetype": "text/x-python",
   "name": "python",
   "nbconvert_exporter": "python",
   "pygments_lexer": "ipython3",
   "version": "3.7.3"
  }
 },
 "nbformat": 4,
 "nbformat_minor": 2
}
